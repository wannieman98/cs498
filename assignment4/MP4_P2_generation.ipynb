{
 "cells": [
  {
   "cell_type": "code",
   "execution_count": 1,
   "metadata": {
    "colab": {
     "base_uri": "https://localhost:8080/"
    },
    "id": "COK0l7yC00ed",
    "outputId": "b5330c7a-b8cc-4039-c510-6c691ce11e7a"
   },
   "outputs": [
    {
     "name": "stdout",
     "output_type": "stream",
     "text": [
      "Mounted at /content/drive\n"
     ]
    }
   ],
   "source": [
    "from google.colab import drive\n",
    "drive.mount('/content/drive', force_remount=True)\n",
    "import os\n",
    "os.chdir('drive/My Drive/assignment4')"
   ]
  },
  {
   "cell_type": "markdown",
   "metadata": {
    "id": "Jsx_3dWh0yV5"
   },
   "source": [
    "# Generating Text with an RNN"
   ]
  },
  {
   "cell_type": "code",
   "execution_count": 2,
   "metadata": {
    "colab": {
     "base_uri": "https://localhost:8080/"
    },
    "collapsed": true,
    "id": "HkvhyMzQ0yV8",
    "outputId": "13f4f0f3-919f-408b-f1d7-247ac4a74ec3"
   },
   "outputs": [
    {
     "name": "stdout",
     "output_type": "stream",
     "text": [
      "Requirement already satisfied: unidecode in /usr/local/lib/python3.7/dist-packages (1.2.0)\n"
     ]
    }
   ],
   "source": [
    "!pip install unidecode\n",
    "import unidecode\n",
    "import string\n",
    "import random\n",
    "import re\n",
    "import time\n",
    "\n",
    "import torch\n",
    "import torch.nn as nn\n",
    "\n",
    "%matplotlib inline\n",
    "\n",
    "%load_ext autoreload\n",
    "%autoreload 2"
   ]
  },
  {
   "cell_type": "code",
   "execution_count": 3,
   "metadata": {
    "collapsed": true,
    "id": "DmkTb0wN0yV9"
   },
   "outputs": [],
   "source": [
    "from rnn.model import RNN\n",
    "from rnn.helpers import time_since\n",
    "from rnn.generate import generate"
   ]
  },
  {
   "cell_type": "code",
   "execution_count": 4,
   "metadata": {
    "collapsed": true,
    "id": "VR3pcrZ10yV9",
    "scrolled": true
   },
   "outputs": [],
   "source": [
    "device = torch.device(\"cuda:0\" if torch.cuda.is_available() else \"cpu\") "
   ]
  },
  {
   "cell_type": "markdown",
   "metadata": {
    "id": "2N1n3cid0yV9"
   },
   "source": [
    "## Data Processing\n",
    "\n",
    "The file we are using is a plain text file. We turn any potential unicode characters into plain ASCII by using the `unidecode` package (which you can install via `pip` or `conda`)."
   ]
  },
  {
   "cell_type": "code",
   "execution_count": 8,
   "metadata": {
    "id": "94BHjqOQYAhf"
   },
   "outputs": [],
   "source": [
    "# !sh download_language.sh"
   ]
  },
  {
   "cell_type": "code",
   "execution_count": 20,
   "metadata": {
    "colab": {
     "base_uri": "https://localhost:8080/"
    },
    "collapsed": true,
    "id": "zgByahzC0yV9",
    "outputId": "f25141c2-4aee-4f3a-d94b-f24c4e339143"
   },
   "outputs": [
    {
     "name": "stdout",
     "output_type": "stream",
     "text": [
      "0123456789abcdefghijklmnopqrstuvwxyzABCDEFGHIJKLMNOPQRSTUVWXYZ!\"#$%&'()*+,-./:;<=>?@[\\]^_`{|}~ \t\n",
      "\r",
      "\u000b",
      "\f",
      "\n",
      "file_len = 1115394\n",
      "train len:  1003854\n",
      "test len:  111540\n"
     ]
    }
   ],
   "source": [
    "all_characters = string.printable\n",
    "n_characters = len(all_characters)\n",
    "print(all_characters)\n",
    "\n",
    "file_path = 'language_data/shakespeare.txt'\n",
    "file = unidecode.unidecode(open(file_path).read())\n",
    "file_len = len(file)\n",
    "print('file_len =', file_len)\n",
    "\n",
    "# we will leave the last 1/10th of text as test\n",
    "split = int(0.9*file_len)\n",
    "train_text = file[:split]\n",
    "test_text = file[split:]\n",
    "\n",
    "print('train len: ', len(train_text))\n",
    "print('test len: ', len(test_text))"
   ]
  },
  {
   "cell_type": "code",
   "execution_count": 10,
   "metadata": {
    "colab": {
     "base_uri": "https://localhost:8080/"
    },
    "collapsed": true,
    "id": "rNW5vfkI0yV9",
    "outputId": "557e2055-40fd-4814-eff8-ec4d72834875"
   },
   "outputs": [
    {
     "name": "stdout",
     "output_type": "stream",
     "text": [
      "rple sap from her sweet brother's body\n",
      "And bid her dry her weeping eyes therewith.\n",
      "If this inducement force her not to love,\n",
      "Send her a story of thy noble acts;\n",
      "Tell her thou madest away her uncle Clar\n"
     ]
    }
   ],
   "source": [
    "chunk_len = 200\n",
    "\n",
    "def random_chunk(text):\n",
    "    start_index = random.randint(0, len(text) - chunk_len)\n",
    "    end_index = start_index + chunk_len + 1\n",
    "    return text[start_index:end_index]\n",
    "\n",
    "print(random_chunk(train_text))"
   ]
  },
  {
   "cell_type": "markdown",
   "metadata": {
    "id": "RH049diV0yV9"
   },
   "source": [
    "### Input and Target data"
   ]
  },
  {
   "cell_type": "markdown",
   "metadata": {
    "id": "jWg8RY1G0yV9"
   },
   "source": [
    "To make training samples out of the large string of text data, we will be splitting the text into chunks.\n",
    "\n",
    "Each chunk will be turned into a tensor, specifically a `LongTensor` (used for integer values), by looping through the characters of the string and looking up the index of each character in `all_characters`."
   ]
  },
  {
   "cell_type": "code",
   "execution_count": 11,
   "metadata": {
    "collapsed": true,
    "id": "rDX1cu870yV-"
   },
   "outputs": [],
   "source": [
    "# Turn string into list of longs\n",
    "def char_tensor(string):\n",
    "    tensor = torch.zeros(len(string), requires_grad=True).long()\n",
    "    for c in range(len(string)):\n",
    "        tensor[c] = all_characters.index(string[c])\n",
    "    return tensor"
   ]
  },
  {
   "cell_type": "markdown",
   "metadata": {
    "id": "_px8Qb-t0yV-"
   },
   "source": [
    "The following function loads a batch of input and target tensors for training. Each sample comes from a random chunk of text. A sample input will consist of all characters *except the last*, while the target wil contain all characters *following the first*. For example: if random_chunk='abc', then input='ab' and target='bc'"
   ]
  },
  {
   "cell_type": "code",
   "execution_count": 12,
   "metadata": {
    "collapsed": true,
    "id": "j-QVw7-W0yV-"
   },
   "outputs": [],
   "source": [
    "def load_random_batch(text, chunk_len, batch_size):\n",
    "    input_data = torch.zeros(batch_size, chunk_len).long().to(device)\n",
    "    target = torch.zeros(batch_size, chunk_len).long().to(device)\n",
    "    for i in range(batch_size):\n",
    "        start_index = random.randint(0, len(text) - chunk_len - 1)\n",
    "        end_index = start_index + chunk_len + 1\n",
    "        chunk = text[start_index:end_index]\n",
    "        input_data[i] = char_tensor(chunk[:-1])\n",
    "        target[i] = char_tensor(chunk[1:])\n",
    "    return input_data, target"
   ]
  },
  {
   "cell_type": "markdown",
   "metadata": {
    "id": "H9m2MQ8R0yV-"
   },
   "source": [
    "# Implement model\n",
    "\n",
    "Your RNN model will take as input the character for step $t_{-1}$ and output a prediction for the next character $t$. The model should consiste of three layers - a linear layer that encodes the input character into an embedded state, an RNN layer (which may itself have multiple layers) that operates on that embedded state and a hidden state, and a decoder layer that outputs the predicted character scores distribution.\n",
    "\n",
    "\n",
    "You must implement your model in the `rnn/model.py` file. You should use a `nn.Embedding` object for the encoding layer, a RNN model like `nn.RNN` or `nn.LSTM`, and a `nn.Linear` layer for the final a predicted character score decoding layer.\n",
    "\n",
    "\n",
    "**TODO:** Implement the model in RNN `rnn/model.py`"
   ]
  },
  {
   "cell_type": "markdown",
   "metadata": {
    "id": "SnxHZIvV0yV-"
   },
   "source": [
    "# Evaluating\n",
    "\n",
    "To evaluate the network we will feed one character at a time, use the outputs of the network as a probability distribution for the next character, and repeat. To start generation we pass a priming string to start building up the hidden state, from which we then generate one character at a time.\n",
    "\n",
    "\n",
    "Note that in the `evaluate` function, every time a prediction is made the outputs are divided by the \"temperature\" argument. Higher temperature values make actions more equally likely giving more \"random\" outputs. Lower temperature values (less than 1) high likelihood options contribute more. A temperature near 0 outputs only the most likely outputs.\n",
    "\n",
    "You may check different temperature values yourself, but we have provided a default which should work well."
   ]
  },
  {
   "cell_type": "code",
   "execution_count": 13,
   "metadata": {
    "collapsed": true,
    "id": "BtW8O-Vl0yV-"
   },
   "outputs": [],
   "source": [
    "def evaluate(rnn, prime_str='A', predict_len=100, temperature=0.8):\n",
    "    hidden = rnn.init_hidden(1, device=device)\n",
    "    prime_input = char_tensor(prime_str)\n",
    "    predicted = prime_str\n",
    "\n",
    "    # Use priming string to \"build up\" hidden state\n",
    "    for p in range(len(prime_str) - 1):\n",
    "        _, hidden = rnn(prime_input[p].unsqueeze(0).to(device), hidden)\n",
    "    inp = prime_input[-1]\n",
    "    \n",
    "    for p in range(predict_len):\n",
    "        output, hidden = rnn(inp.unsqueeze(0).to(device), hidden)\n",
    "        \n",
    "        # Sample from the network as a multinomial distribution\n",
    "        output_dist = output.data.view(-1).div(temperature).exp()\n",
    "        top_i = torch.multinomial(output_dist, 1)[0]\n",
    "        \n",
    "        # Add predicted character to string and use as next input\n",
    "        predicted_char = all_characters[top_i]\n",
    "        predicted += predicted_char\n",
    "        inp = char_tensor(predicted_char)\n",
    "\n",
    "    return predicted"
   ]
  },
  {
   "cell_type": "markdown",
   "metadata": {
    "id": "M8t9EI9X0yV_"
   },
   "source": [
    "# Train RNN"
   ]
  },
  {
   "cell_type": "code",
   "execution_count": 14,
   "metadata": {
    "collapsed": true,
    "id": "d0Tg40aX0yV_"
   },
   "outputs": [],
   "source": [
    "batch_size = 100\n",
    "n_epochs = 1500\n",
    "hidden_size = 100\n",
    "n_layers = 1\n",
    "learning_rate = 0.01\n",
    "model_type = 'rnn'\n",
    "print_every = 50\n",
    "plot_every = 50\n"
   ]
  },
  {
   "cell_type": "code",
   "execution_count": 17,
   "metadata": {
    "collapsed": true,
    "id": "sxD9S-RM0yV_"
   },
   "outputs": [],
   "source": [
    "def eval_test(rnn, inp, target):\n",
    "    with torch.no_grad():\n",
    "        hidden = rnn.init_hidden(batch_size, device=device)\n",
    "        loss = 0\n",
    "        for c in range(chunk_len):\n",
    "            output, hidden = rnn(inp[:,c], hidden)\n",
    "            loss += criterion(output.view(batch_size, -1), target[:,c])\n",
    "    \n",
    "    return loss.data.item() / chunk_len"
   ]
  },
  {
   "cell_type": "markdown",
   "metadata": {
    "id": "czxZ1kdc0yV_"
   },
   "source": [
    "### Train function\n",
    "\n",
    "**TODO**: Fill in the train function. You should initialize a hidden layer representation using your RNN's `init_hidden` function, set the model gradients to zero, and loop over each time step (character) in the input tensor. For each time step compute the output of the of the RNN and compute the loss over the output and the corresponding ground truth time step in `target`. The loss should be averaged over all time steps. Lastly, call backward on the averaged loss and take an optimizer step.\n"
   ]
  },
  {
   "cell_type": "code",
   "execution_count": 15,
   "metadata": {
    "collapsed": true,
    "id": "Wc_2UE2l0yV_"
   },
   "outputs": [],
   "source": [
    "def train(rnn, input, target, optimizer, criterion):\n",
    "    \"\"\"\n",
    "    Inputs:\n",
    "    - rnn: model\n",
    "    - input: input character data tensor of shape (batch_size, chunk_len)\n",
    "    - target: target character data tensor of shape (batch_size, chunk_len)\n",
    "    - optimizer: rnn model optimizer\n",
    "    - criterion: loss function\n",
    "    \n",
    "    Returns:\n",
    "    - loss: computed loss value as python float\n",
    "    \"\"\"\n",
    "    loss = 0\n",
    "    \n",
    "    ####################################\n",
    "    #          YOUR CODE HERE          #\n",
    "    ####################################\n",
    "    hidden = rnn.init_hidden(batch_size, device)\n",
    "    rnn.zero_grad()\n",
    "    for chunk in range(chunk_len):\n",
    "        output, hidden = rnn(input[:,chunk], hidden)\n",
    "        loss += criterion(output.view(input.size(0), -1), target[:,chunk])\n",
    "        \n",
    "    loss.data /= chunk_len\n",
    "\n",
    "    loss.backward()\n",
    "    optimizer.step()\n",
    "    ##########       END      ##########\n",
    "\n",
    "    return loss\n"
   ]
  },
  {
   "cell_type": "code",
   "execution_count": null,
   "metadata": {
    "colab": {
     "base_uri": "https://localhost:8080/"
    },
    "collapsed": true,
    "id": "qQqDohF50yV_",
    "outputId": "b95107cf-deb6-4012-e691-29f4f11ef652"
   },
   "outputs": [
    {
     "name": "stdout",
     "output_type": "stream",
     "text": [
      "Training for 1500 epochs...\n",
      "[0m 28s (50 3%) train loss: 2.0477, test_loss: 2.0928]\n",
      "When I dowe hand thee have reding as thou hot Cackings yemy ame her thes the fhis heall gesish homank  \n",
      "\n",
      "[0m 56s (100 6%) train loss: 1.8871, test_loss: 1.9598]\n",
      "Whece, then be lood his canine leen mare in'll drue tou cour Whe have all thow me that the word, my bl \n",
      "\n",
      "[1m 24s (150 10%) train loss: 1.7881, test_loss: 1.9260]\n",
      "Whals the stands. Prayely dean.\n",
      "\n",
      "POLIXENES:\n",
      "Now, ain eartife,\n",
      "With and not her brown\n",
      "\n",
      "Firucamare hat t \n",
      "\n",
      "[1m 52s (200 13%) train loss: 1.7413, test_loss: 1.8947]\n",
      "What fith ienge; or be ladesion pantage eninate it not.\n",
      "\n",
      "Cloubray'd them?\n",
      "\n",
      "CORIO:\n",
      "And thy would I bete \n",
      "\n",
      "[2m 20s (250 16%) train loss: 1.7164, test_loss: 1.8869]\n",
      "Whing spreen triever stray's the miscaly senty, and let this sood leave the like thou a dong of holy s \n",
      "\n",
      "[2m 49s (300 20%) train loss: 1.6845, test_loss: 1.8299]\n",
      "Whanks\n",
      "Whoke I well thou and for I death as in the know an you hath thank hoce.\n",
      "\n",
      "Lill the puin's beave \n",
      "\n",
      "[3m 17s (350 23%) train loss: 1.6587, test_loss: 1.8558]\n",
      "Whow beafalling this gnies the shall have mind me her love night to your call son thee and light; the  \n",
      "\n",
      "[3m 45s (400 26%) train loss: 1.6564, test_loss: 1.8003]\n",
      "What was you death\n",
      "That?\n",
      "A that not my father,\n",
      "Shall that with a good crecone nonus,\n",
      "And me, this name \n",
      "\n",
      "[4m 13s (450 30%) train loss: 1.6545, test_loss: 1.8149]\n",
      "Whilds she weantels from my greed untur heatter, swoad his father beet are fautwelling.\n",
      "\n",
      "HENRY BOLINGB \n",
      "\n",
      "[4m 41s (500 33%) train loss: 1.6504, test_loss: 1.8297]\n",
      "Whatads the grace singuefore:\n",
      "And tay the poused is Warcher own by the wear of defend me do, have like \n",
      "\n",
      "[5m 9s (550 36%) train loss: 1.6309, test_loss: 1.7528]\n",
      "What the wort in himselfs there was their heart and see made is in my and see my to chates mem in time \n",
      "\n",
      "[5m 37s (600 40%) train loss: 1.6221, test_loss: 1.7761]\n",
      "Which the benty issence to a the cart him he sevenge.\n",
      "\n",
      "POMPEY:\n",
      "I was him other dispent my breaty\n",
      "To fa \n",
      "\n",
      "[6m 6s (650 43%) train loss: 1.6164, test_loss: 1.7949]\n",
      "Whilmingles, if not dute. I blistry entrying:\n",
      "Make him your sinesty, carry the arm loves in the shoili \n",
      "\n",
      "[6m 35s (700 46%) train loss: 1.6330, test_loss: 1.7803]\n",
      "Wheremon with;\n",
      "They with him misue the harms, or you a furse for there king that conceing to-morrow:\n",
      "S \n",
      "\n",
      "[7m 3s (750 50%) train loss: 1.6120, test_loss: 1.8052]\n",
      "What you thee man truck to nog on my hand with his beed this love a pass thou hath a paull\n",
      "Of Marcius. \n",
      "\n",
      "[7m 31s (800 53%) train loss: 1.6065, test_loss: 1.7885]\n",
      "Whill one and fear, are a fall his manger wife to who till noting your lade; and the will not.\n",
      "\n",
      "KING R \n",
      "\n",
      "[7m 59s (850 56%) train loss: 1.6051, test_loss: 1.7958]\n",
      "What drace,\n",
      "I do at the could men against\n",
      "But found are two frother should on thou string\n",
      "Acturither:\n",
      " \n",
      "\n",
      "[8m 27s (900 60%) train loss: 1.5856, test_loss: 1.7424]\n",
      "Whickly to could a that that, and find thou two with\n",
      "Proman to be with i' thou make the told are you h \n",
      "\n",
      "[8m 55s (950 63%) train loss: 1.5994, test_loss: 1.8037]\n",
      "What newd ibley on his that no milds colour fack and falt on brother of thou boar blessing unto a veri \n",
      "\n",
      "[9m 23s (1000 66%) train loss: 1.5812, test_loss: 1.7476]\n",
      "Why, to he a rook in this brother of comest here well, be a death, tong, I am a fameny aster\n",
      "and thou  \n",
      "\n",
      "[9m 51s (1050 70%) train loss: 1.5898, test_loss: 1.7623]\n",
      "Why the ston.\n",
      "\n",
      "VOLUMNIA:\n",
      "He the heart on the noble shall quicks\n",
      "The nessed for this well deace.\n",
      "\n",
      "POMPE \n",
      "\n",
      "[10m 20s (1100 73%) train loss: 1.5880, test_loss: 1.7461]\n",
      "What she offect and is that signs. Now\n",
      "with the boy think be you could for the dischardent, as the jub \n",
      "\n",
      "[10m 48s (1150 76%) train loss: 1.5755, test_loss: 1.7464]\n",
      "What thou out no sorrow' heart,\n",
      "Be charence, strangeling overse.\n",
      "\n",
      "PEONTES:\n",
      "Uncle's will our sorrow rig \n",
      "\n",
      "[11m 16s (1200 80%) train loss: 1.5785, test_loss: 1.7684]\n",
      "Why, from you, where for the but a bention no some stain the brother, so live with here, then us exout \n",
      "\n",
      "[11m 44s (1250 83%) train loss: 1.5927, test_loss: 1.7418]\n",
      "What sorrow!\n",
      "\n",
      "MiO:\n",
      "Genty for what cannot dear\n",
      "Citizen:\n",
      "That like to seem of drant, if all it himself o \n",
      "\n",
      "[12m 12s (1300 86%) train loss: 1.5768, test_loss: 1.7625]\n",
      "Why protillads come her, well: let make gates that malon, I hear made marken:\n",
      "\n",
      "LADY.\n",
      "Now;\n",
      "And heave me \n",
      "\n",
      "[12m 40s (1350 90%) train loss: 1.5672, test_loss: 1.8014]\n",
      "Why when shame:\n",
      "For raid with she is be sucterath the hood you morrien service, by in bid leaning here \n",
      "\n",
      "[13m 8s (1400 93%) train loss: 1.5629, test_loss: 1.7762]\n",
      "When you, hersemons,\n",
      "Then say and proest which he beloved her friend-dint to immaid\n",
      "Shich, she is here \n",
      "\n",
      "[13m 36s (1450 96%) train loss: 1.5504, test_loss: 1.7818]\n",
      "What them the list much no meety, to scabours\n",
      "Some wrate; the mace to not so tent in the brother in yo \n",
      "\n",
      "[14m 4s (1500 100%) train loss: 1.5799, test_loss: 1.7814]\n",
      "Wherefore? for this facks conferest us not thou,\n",
      "Would suppess in your noble tap.\n",
      "\n",
      "MENENIUS:\n",
      "If you wi \n",
      "\n"
     ]
    }
   ],
   "source": [
    "rnn = RNN(n_characters, hidden_size, n_characters, model_type=model_type, n_layers=n_layers).to(device)\n",
    "rnn_optimizer = torch.optim.Adam(rnn.parameters(), lr=learning_rate)\n",
    "criterion = nn.CrossEntropyLoss()\n",
    "\n",
    "start = time.time()\n",
    "all_losses = []\n",
    "test_losses = []\n",
    "loss_avg = 0\n",
    "test_loss_avg = 0\n",
    "\n",
    "\n",
    "print(\"Training for %d epochs...\" % n_epochs)\n",
    "for epoch in range(1, n_epochs + 1):\n",
    "    loss = train(rnn, *load_random_batch(train_text, chunk_len, batch_size), rnn_optimizer, criterion)\n",
    "    loss_avg += loss\n",
    "    \n",
    "    test_loss = eval_test(rnn, *load_random_batch(test_text, chunk_len, batch_size))\n",
    "    test_loss_avg += test_loss\n",
    "\n",
    "    if epoch % print_every == 0:\n",
    "        print('[%s (%d %d%%) train loss: %.4f, test_loss: %.4f]' % (time_since(start), epoch, epoch / n_epochs * 100, loss, test_loss))\n",
    "        print(generate(rnn, 'Wh', 100, device=device), '\\n')\n",
    "\n",
    "    if epoch % plot_every == 0:\n",
    "        all_losses.append(loss_avg / plot_every)\n",
    "        test_losses.append(test_loss_avg / plot_every)\n",
    "        loss_avg = 0\n",
    "        test_loss_avg = 0"
   ]
  },
  {
   "cell_type": "code",
   "execution_count": null,
   "metadata": {
    "collapsed": true,
    "id": "fxWJ9qVC0yV_"
   },
   "outputs": [],
   "source": [
    "# save network\n",
    "# torch.save(classifier.state_dict(), './rnn_generator.pth')"
   ]
  },
  {
   "cell_type": "markdown",
   "metadata": {
    "id": "HHyIcmr60yWA"
   },
   "source": [
    "# Plot the Training and Test Losses"
   ]
  },
  {
   "cell_type": "code",
   "execution_count": null,
   "metadata": {
    "colab": {
     "base_uri": "https://localhost:8080/",
     "height": 282
    },
    "collapsed": true,
    "id": "EHbKb7fM0yWA",
    "outputId": "59ddb0ae-d345-422d-cc66-4654293745bd"
   },
   "outputs": [
    {
     "data": {
      "text/plain": [
       "[<matplotlib.lines.Line2D at 0x7fec5e559e50>]"
      ]
     },
     "execution_count": 16,
     "metadata": {
      "tags": []
     },
     "output_type": "execute_result"
    },
    {
     "data": {
      "image/png": "[encoded data removed]",
      "text/plain": [
       "<Figure size 432x288 with 1 Axes>"
      ]
     },
     "metadata": {
      "needs_background": "light",
      "tags": []
     },
     "output_type": "display_data"
    }
   ],
   "source": [
    "import matplotlib.pyplot as plt\n",
    "import matplotlib.ticker as ticker\n",
    "\n",
    "plt.figure()\n",
    "plt.plot(all_losses)\n",
    "plt.plot(test_losses, color='r')"
   ]
  },
  {
   "cell_type": "markdown",
   "metadata": {
    "id": "xck_MU-Z0yWA"
   },
   "source": [
    "# Hyperparameter Tuning\n",
    "\n",
    "Some things you should try to improve your network performance are:\n",
    "- Different RNN types. Switch the basic RNN network in your model to a GRU and LSTM to compare all three.\n",
    "- Try adding 1 or two more layers\n",
    "- Increase the hidden layer size\n",
    "- Changing the learning rate\n",
    "\n",
    "**TODO:** Try changing the RNN type and hyperparameters. Record your results."
   ]
  },
  {
   "cell_type": "code",
   "execution_count": null,
   "metadata": {
    "colab": {
     "base_uri": "https://localhost:8080/"
    },
    "collapsed": true,
    "id": "V5v_3CQh0yWA",
    "outputId": "57226a35-0ff3-418e-c5b0-b2e0bf627d9c"
   },
   "outputs": [
    {
     "name": "stdout",
     "output_type": "stream",
     "text": [
      "Training for 1500 epochs...\n",
      "[0m 28s (50 3%) train loss: 3.4415, test_loss: 3.4846]\n",
      "Wh#/>dC \u000b",
      "GheZm= `6g/{thiu YWt- u'*eF; flovyt che/ehthhf\n",
      "ihoe6tgwU,hh4beds~noar |m ddHSreVzoeyoJno ohel \n",
      "\n",
      "[0m 56s (100 6%) train loss: 3.1217, test_loss: 3.1415]\n",
      "Wh(D5S)dV\n",
      " \n",
      "ae m s stoimfesh Piifoah ieeo,t coe,o te ah\n",
      "  l Iea2\n",
      "e,o aege w aeIs t p hee ale Ih re bk  \n",
      "\n",
      "[1m 25s (150 10%) train loss: 2.9198, test_loss: 2.9464]\n",
      "WhecbvaIe su,t avs siss n ra',\n",
      "\n",
      "hanrrI n i o,es td et ttea ehn here, ay assm slo s su\n",
      "couerki wa isn y \n",
      "\n",
      "[1m 53s (200 13%) train loss: 2.7402, test_loss: 2.7477]\n",
      "Whr:\n",
      "I-IaNR.e ha/ seo petdest geg ot\n",
      ",n ortre ofier Itrt pipgtintcas bvu toun ounr sotisrulet\n",
      "I:\n",
      "n t\n",
      "t \n",
      "\n",
      "[2m 22s (250 16%) train loss: 2.6278, test_loss: 2.6353]\n",
      "Whda atme fhene, ned ewhid to nomare thes ae te tfhe soret wis nosarine yo hat\n",
      "2om set t yotd oadd vnt \n",
      "\n",
      "[2m 50s (300 20%) train loss: 2.5568, test_loss: 2.5427]\n",
      "Whhed\n",
      " inhe py te co thany tharr, nir swisbhe pothe/ srtoy wole he, son sitherind\n",
      "H afd forrs\n",
      "Bthe,\n",
      "\n",
      "A \n",
      "\n",
      "[3m 19s (350 23%) train loss: 2.4774, test_loss: 2.4870]\n",
      "Wh.D poincThon ore ciqotike thoe togd the ow;e thad dino ametit now wad,\n",
      "\n",
      "Thes fort mamthe be uo wit i \n",
      "\n",
      "[3m 47s (400 26%) train loss: 2.4301, test_loss: 2.4312]\n",
      "Whe ave gour ngod wy souto he icon bukes, mal lrerthe wis orsy hicing seawd anget theanst my and pathe \n",
      "\n",
      "[4m 16s (450 30%) train loss: 2.3866, test_loss: 2.4013]\n",
      "Whof angd -alii tthe toe goam al mve this t\n",
      "A:\n",
      "The the sou thighey she thare, as ret.\n",
      "W'ow rnes sheave \n",
      "\n",
      "[4m 45s (500 33%) train loss: 2.3237, test_loss: 2.3402]\n",
      "Whe wind tore did the our that ind agw ther ind wo\n",
      "y menout than and thai' bouren the corlthy ma kord  \n",
      "\n",
      "[5m 13s (550 36%) train loss: 2.2948, test_loss: 2.3207]\n",
      "Whe miges yg heard'sens winghan the acfar thes be thiice preretor; hiris enmeas cour wispef thecend he \n",
      "\n",
      "[5m 42s (600 40%) train loss: 2.2628, test_loss: 2.2670]\n",
      "Wh:\n",
      "\n",
      "MES:\n",
      "Thid mence the iget.\n",
      "\n",
      "Thordin with, thad ceive he mein chereese marge an beot nond ronou,\n",
      "Me \n",
      "\n",
      "[6m 10s (650 43%) train loss: 2.2536, test_loss: 2.2462]\n",
      "Whis.\n",
      "\n",
      "RIILIENINKO:\n",
      "I the toustu histise of suit wher harly boull suthS\n",
      "O that my in thir think mand w \n",
      "\n",
      "[6m 39s (700 46%) train loss: 2.2128, test_loss: 2.2049]\n",
      "Wheer proe ull hure we mungitan;\n",
      "\n",
      "here hald;\n",
      "\n",
      "Oonoluther id hame the path the bato the racome say mees \n",
      "\n",
      "[7m 7s (750 50%) train loss: 2.1977, test_loss: 2.2073]\n",
      "Wheng grell wartha; thinne lof the wit ford aro lave the lure main seld sist\n",
      "Whan:\n",
      "Was in heread far b \n",
      "\n",
      "[7m 36s (800 53%) train loss: 2.1631, test_loss: 2.1866]\n",
      "Whee heard me. thous and miank, bet mo im:\n",
      "Ay ceare mitrigh thilr hist\n",
      "Fir kinch doritennt to gok all  \n",
      "\n",
      "[8m 4s (850 56%) train loss: 2.1274, test_loss: 2.1815]\n",
      "Wheat the me iss thee ppack\n",
      "\n",
      "OL home huse deicnes dyour the cand, afad gave qath what thear dof roathd \n",
      "\n",
      "[8m 33s (900 60%) train loss: 2.1270, test_loss: 2.1452]\n",
      "Wheld beckest if mothy ank nor,\n",
      "Tith' you ingt melly you teown\n",
      "Nor lour someftis there all and friese  \n",
      "\n",
      "[9m 1s (950 63%) train loss: 2.0951, test_loss: 2.1200]\n",
      "WhRI y that, you hicos the! fof s'thive live the he spell dosou foll cesteen Mear\n",
      "ence Yot and tus wha \n",
      "\n",
      "[9m 30s (1000 66%) train loss: 2.0717, test_loss: 2.0944]\n",
      "Whrites not there?\n",
      "\n",
      "COORENTAUS:\n",
      "Dut not and shasran to nife forll.\n",
      "Fard fove in sow the sance of wours \n",
      "\n",
      "[9m 59s (1050 70%) train loss: 2.0651, test_loss: 2.1072]\n",
      "Why theu pae! at not siike not a stoy;\n",
      "I ullm of the the my to gestale hinre, watt pemandang in with n \n",
      "\n",
      "[10m 27s (1100 73%) train loss: 2.0423, test_loss: 2.0818]\n",
      "Whith than.\n",
      "\n",
      "Forn ferle wive the To the sast.\n",
      "\n",
      "CRIINIE:\n",
      "Sight thin soll iled whith gito sore, ould har \n",
      "\n",
      "[10m 56s (1150 76%) train loss: 2.0247, test_loss: 2.0822]\n",
      "Whe thast the mase hise here the with hand saell the the mint, ano thowes thead to the you gime nous o \n",
      "\n",
      "[11m 24s (1200 80%) train loss: 1.9932, test_loss: 2.0590]\n",
      "Wher hugore swars thus wing mikend deallance jonde hard michy: I my bling the sto I sarcans.\n",
      "To for:\n",
      "W \n",
      "\n",
      "[11m 53s (1250 83%) train loss: 1.9914, test_loss: 2.0725]\n",
      "Wher my delsed deed.\n",
      "\n",
      "HARENRDE:\n",
      "Do the and come her hreath what har?\n",
      "Here lith he vies of me bout lat  \n",
      "\n",
      "[12m 21s (1300 86%) train loss: 1.9971, test_loss: 2.0246]\n",
      "Whe bee: thy the wen sare parth the lardy, shneen in tenest im and ir the me I cand nour agilen tere c \n",
      "\n",
      "[12m 49s (1350 90%) train loss: 1.9651, test_loss: 2.0141]\n",
      "Wher your hondents to the tableor see the or for thit the his as of no conder, bet mins so?\n",
      "\n",
      "DUIOD IAN \n",
      "\n",
      "[13m 18s (1400 93%) train loss: 1.9598, test_loss: 2.0147]\n",
      "Whe hin tao, deach meall it and here besald writh a drencell you for the deathences on it in and hus t \n",
      "\n",
      "[13m 46s (1450 96%) train loss: 1.9511, test_loss: 2.0066]\n",
      "Whee mar's.\n",
      "\n",
      "HERCIOS:\n",
      "And you the grace's borsing wouth one the alk ad my tallves? Tume; a be he anter \n",
      "\n",
      "[14m 15s (1500 100%) train loss: 1.9546, test_loss: 1.9927]\n",
      "Whe my of the thann to is, grother fon to the deall he verisinemas, son me with swer goce:\n",
      "And ble! sh \n",
      "\n"
     ]
    }
   ],
   "source": [
    "model_type = \"lstm\"\n",
    "n_layers = 1\n",
    "hidden_size = 100\n",
    "learning_rate = 0.0003\n",
    "\n",
    "rnn = RNN(n_characters, hidden_size, n_characters, model_type=model_type, n_layers=n_layers).to(device)\n",
    "rnn_optimizer = torch.optim.Adam(rnn.parameters(), lr=learning_rate)\n",
    "criterion = nn.CrossEntropyLoss()\n",
    "\n",
    "start = time.time()\n",
    "all_losses = []\n",
    "test_losses = []\n",
    "loss_avg = 0\n",
    "test_loss_avg = 0\n",
    "\n",
    "\n",
    "print(\"Training for %d epochs...\" % n_epochs)\n",
    "for epoch in range(1, n_epochs + 1):\n",
    "    loss = train(rnn, *load_random_batch(train_text, chunk_len, batch_size), rnn_optimizer, criterion)\n",
    "    loss_avg += loss\n",
    "    \n",
    "    test_loss = eval_test(rnn, *load_random_batch(test_text, chunk_len, batch_size))\n",
    "    test_loss_avg += test_loss\n",
    "\n",
    "    if epoch % print_every == 0:\n",
    "        print('[%s (%d %d%%) train loss: %.4f, test_loss: %.4f]' % (time_since(start), epoch, epoch / n_epochs * 100, loss, test_loss))\n",
    "        print(generate(rnn, 'Wh', 100, device=device), '\\n')\n",
    "\n",
    "    if epoch % plot_every == 0:\n",
    "        all_losses.append(loss_avg / plot_every)\n",
    "        test_losses.append(test_loss_avg / plot_every)\n",
    "        loss_avg = 0\n",
    "        test_loss_avg = 0"
   ]
  },
  {
   "cell_type": "code",
   "execution_count": null,
   "metadata": {
    "colab": {
     "base_uri": "https://localhost:8080/",
     "height": 282
    },
    "id": "4IUSJoBI1mHt",
    "outputId": "b34eb709-b6b0-488a-e2f2-bdb44056f0af"
   },
   "outputs": [
    {
     "data": {
      "text/plain": [
       "[<matplotlib.lines.Line2D at 0x7fec5e065f10>]"
      ]
     },
     "execution_count": 19,
     "metadata": {
      "tags": []
     },
     "output_type": "execute_result"
    },
    {
     "data": {
      "image/png": "[encoded data removed]",
      "text/plain": [
       "<Figure size 432x288 with 1 Axes>"
      ]
     },
     "metadata": {
      "needs_background": "light",
      "tags": []
     },
     "output_type": "display_data"
    }
   ],
   "source": [
    "import matplotlib.pyplot as plt\n",
    "import matplotlib.ticker as ticker\n",
    "\n",
    "plt.figure()\n",
    "plt.plot(all_losses)\n",
    "plt.plot(test_losses, color='r')"
   ]
  },
  {
   "cell_type": "code",
   "execution_count": null,
   "metadata": {
    "colab": {
     "base_uri": "https://localhost:8080/"
    },
    "id": "efRmAB1sbuR8",
    "outputId": "c5670602-c216-4dea-ff27-80662a9a7b18"
   },
   "outputs": [
    {
     "name": "stdout",
     "output_type": "stream",
     "text": [
      "Training for 1500 epochs...\n",
      "[0m 34s (50 3%) train loss: 2.5723, test_loss: 2.5708]\n",
      "Whenth sah tas\n",
      ".\n",
      "\n",
      "qBhey moceses ravouecentf e ny ancud herlgme tumCI in nCOC\n",
      "Whwi.\n",
      "TI he that feutingh \n",
      "\n",
      "[1m 9s (100 6%) train loss: 2.1163, test_loss: 2.1358]\n",
      "Whe rest my\n",
      "Bured, their.\n",
      "\n",
      "HECHIUS:\n",
      "Meater, you our ball bund blateghed'd deningny,\n",
      "For when etctherer \n",
      "\n",
      "[1m 44s (150 10%) train loss: 1.8944, test_loss: 1.9612]\n",
      "Whererul and in be cords Vantists I thous;\n",
      "And vife nitinng it:\n",
      "As broour I our somether of the of lig \n",
      "\n",
      "[2m 19s (200 13%) train loss: 1.7344, test_loss: 1.8078]\n",
      "Whery for inter.\n",
      "\n",
      "CONINOl Edrest no 'it, pagedcemhouse thean,\n",
      "I sack is you wice of hath too.\n",
      "\n",
      "KORD:\n",
      "T \n",
      "\n",
      "[2m 54s (250 16%) train loss: 1.6289, test_loss: 1.7555]\n",
      "Whing gandiphing with speak in my prity,\n",
      "Bestatence my grace with stand your him for they lie.\n",
      "\n",
      "DUKE V \n",
      "\n",
      "[3m 29s (300 20%) train loss: 1.5677, test_loss: 1.7346]\n",
      "What love.\n",
      "\n",
      "GLOUCESTENE:\n",
      "O, I call the mind; till see weal to be my fliclet.\n",
      "\n",
      "ELWARD III:\n",
      "He haste the \n",
      "\n",
      "[4m 4s (350 23%) train loss: 1.4945, test_loss: 1.6796]\n",
      "Where the head,\n",
      "That my biserous against me, there an it but to the contees\n",
      "By bettered, the would you \n",
      "\n",
      "[4m 39s (400 26%) train loss: 1.4458, test_loss: 1.6149]\n",
      "What love your conspering.\n",
      "\n",
      "KING RICHARD II:\n",
      "My pale to the grave at all to a set.\n",
      "\n",
      "PEFMERLAND:\n",
      "What,- \n",
      "\n",
      "[5m 14s (450 30%) train loss: 1.4310, test_loss: 1.5975]\n",
      "What could.\n",
      "\n",
      "For Romeo kins:\n",
      "Away and our earligal calemy;\n",
      "The merate I call me in my much a\n",
      "In death: \n",
      "\n",
      "[5m 48s (500 33%) train loss: 1.3638, test_loss: 1.5896]\n",
      "What did rather read,\n",
      "As eat love now make me doth forget about\n",
      "A thought you are own langy by helt,\n",
      "T \n",
      "\n",
      "[6m 23s (550 36%) train loss: 1.3792, test_loss: 1.5590]\n",
      "Wh dead not make this bless:\n",
      "Come chappily, and most duty brother open to make\n",
      "Chilliest. The rest, si \n",
      "\n",
      "[6m 58s (600 40%) train loss: 1.3216, test_loss: 1.4896]\n",
      "Where should? and my lord.\n",
      "\n",
      "SLY:\n",
      "Note, my lord!\n",
      "\n",
      "LEONTES:\n",
      "Be was a siveral blenge.\n",
      "\n",
      "COMINIUS:\n",
      "Go and s \n",
      "\n",
      "[7m 33s (650 43%) train loss: 1.3144, test_loss: 1.5131]\n",
      "Whom the war of it, and that love's heart:\n",
      "I have foul slain, friar, I will not rest a unworthy\n",
      "Than a \n",
      "\n",
      "[8m 8s (700 46%) train loss: 1.3330, test_loss: 1.4855]\n",
      "When it is my filths the justice:\n",
      "Thou wilt be fit unto your age than when the statue\n",
      "appeal outhast w \n",
      "\n",
      "[8m 43s (750 50%) train loss: 1.2702, test_loss: 1.4902]\n",
      "What see thee indeed\n",
      "And after to her action of the extremes\n",
      "And become them better general this means \n",
      "\n",
      "[9m 18s (800 53%) train loss: 1.2682, test_loss: 1.5113]\n",
      "What you kill the rocked counsel.\n",
      "\n",
      "Second Clifford:\n",
      "The patience of this wreck of my messenger.\n",
      "\n",
      "DUKE  \n",
      "\n",
      "[9m 52s (850 56%) train loss: 1.2539, test_loss: 1.5064]\n",
      "What haste hath mouse them!\n",
      "\n",
      "SAMPSON:\n",
      "This is all with the consul affairs and pity\n",
      "March'd the rest in \n",
      "\n",
      "[10m 27s (900 60%) train loss: 1.2396, test_loss: 1.4549]\n",
      "What would have done thy ungerself:\n",
      "Shall I the king any of this land and\n",
      "this time to his the frost o \n",
      "\n",
      "[11m 2s (950 63%) train loss: 1.2080, test_loss: 1.4827]\n",
      "Where I could not speak.\n",
      "\n",
      "POLIXENES:\n",
      "This is my good Turk, thou cross no stee to Here comes\n",
      "And then,  \n",
      "\n",
      "[11m 36s (1000 66%) train loss: 1.2211, test_loss: 1.4550]\n",
      "What bargain.\n",
      "\n",
      "ESCALUS:\n",
      "Come, my gracious Romeo can fly.\n",
      "But must I do be dispose and huntsman?\n",
      "\n",
      "BRUTU \n",
      "\n",
      "[12m 11s (1050 70%) train loss: 1.2067, test_loss: 1.4490]\n",
      "Whis stands be no more.\n",
      "\n",
      "CAPULET:\n",
      "Let's with so heavy liege; go neat:\n",
      "Then so much of my soul, I will  \n",
      "\n",
      "[12m 46s (1100 73%) train loss: 1.2027, test_loss: 1.4745]\n",
      "What confider thy treason better it?\n",
      "\n",
      "BLUNT:\n",
      "On the Duke to my captain stones,\n",
      "And with thy life, that \n",
      "\n",
      "[13m 21s (1150 76%) train loss: 1.2010, test_loss: 1.5252]\n",
      "What we will revent your aged pain,\n",
      "To prevent the people.\n",
      "\n",
      "COMINIUS:\n",
      "He cannot be so; and, by the lan \n",
      "\n",
      "[13m 56s (1200 80%) train loss: 1.1863, test_loss: 1.4866]\n",
      "What a man speak of your rapier of words;\n",
      "Her man, better lives barrants are friends,\n",
      "True loss of thi \n",
      "\n",
      "[14m 31s (1250 83%) train loss: 1.1825, test_loss: 1.4875]\n",
      "Which from Warwick's plaints:\n",
      "And the great perform'd coal and the earth,\n",
      "The wise shall be the side l \n",
      "\n",
      "[15m 6s (1300 86%) train loss: 1.1604, test_loss: 1.5082]\n",
      "Whilst I advise the world grow to death.\n",
      "\n",
      "KING RICHARD III:\n",
      "Scandal is grace. The skies before him wel \n",
      "\n",
      "[15m 40s (1350 90%) train loss: 1.1592, test_loss: 1.4636]\n",
      "What ever come a parlect?\n",
      "\n",
      "ROMEO:\n",
      "Well, as the world hath our mild!\n",
      "\n",
      "GOMENE:\n",
      "My not the truth, and not \n",
      "\n",
      "[16m 15s (1400 93%) train loss: 1.1800, test_loss: 1.4828]\n",
      "What next wear to please you on my mind:\n",
      "Who came that bear those thoughts. I do this seven\n",
      "Toil it to \n",
      "\n",
      "[16m 49s (1450 96%) train loss: 1.1490, test_loss: 1.5099]\n",
      "Whiles report for me;\n",
      "And thus assisted like bloody terms\n",
      "Like man ted them on him so sleep: then I'll \n",
      "\n",
      "[17m 23s (1500 100%) train loss: 1.1570, test_loss: 1.4747]\n",
      "What is worn all against the malice in our liking:\n",
      "So for my son the coward and brothers be;\n",
      "And, and  \n",
      "\n"
     ]
    }
   ],
   "source": [
    "model_type = \"gru\"\n",
    "n_epochs = 1500\n",
    "n_layers = 3\n",
    "hidden_size = 300\n",
    "learning_rate = 0.0008\n",
    "\n",
    "rnn = RNN(n_characters, hidden_size, n_characters, model_type=model_type, n_layers=n_layers).to(device)\n",
    "rnn_optimizer = torch.optim.Adam(rnn.parameters(), lr=learning_rate)\n",
    "criterion = nn.CrossEntropyLoss()\n",
    "\n",
    "start = time.time()\n",
    "all_losses = []\n",
    "test_losses = []\n",
    "loss_avg = 0\n",
    "test_loss_avg = 0\n",
    "\n",
    "\n",
    "print(\"Training for %d epochs...\" % n_epochs)\n",
    "for epoch in range(1, n_epochs + 1):\n",
    "    loss = train(rnn, *load_random_batch(train_text, chunk_len, batch_size), rnn_optimizer, criterion)\n",
    "    loss_avg += loss\n",
    "    \n",
    "    test_loss = eval_test(rnn, *load_random_batch(test_text, chunk_len, batch_size))\n",
    "    test_loss_avg += test_loss\n",
    "\n",
    "    if epoch % print_every == 0:\n",
    "        print('[%s (%d %d%%) train loss: %.4f, test_loss: %.4f]' % (time_since(start), epoch, epoch / n_epochs * 100, loss, test_loss))\n",
    "        print(generate(rnn, 'Wh', 100, device=device), '\\n')\n",
    "\n",
    "    if epoch % plot_every == 0:\n",
    "        all_losses.append(loss_avg / plot_every)\n",
    "        test_losses.append(test_loss_avg / plot_every)\n",
    "        loss_avg = 0\n",
    "        test_loss_avg = 0"
   ]
  },
  {
   "cell_type": "code",
   "execution_count": null,
   "metadata": {
    "colab": {
     "base_uri": "https://localhost:8080/",
     "height": 285
    },
    "id": "L1jTdrzQb2x_",
    "outputId": "8aeca3de-437e-41cb-fc33-bb5ac5151c3c"
   },
   "outputs": [
    {
     "data": {
      "text/plain": [
       "[<matplotlib.lines.Line2D at 0x7fec5772c650>]"
      ]
     },
     "execution_count": 23,
     "metadata": {
      "tags": []
     },
     "output_type": "execute_result"
    },
    {
     "data": {
      "image/png": "[encoded data removed]",
      "text/plain": [
       "<Figure size 432x288 with 1 Axes>"
      ]
     },
     "metadata": {
      "needs_background": "light",
      "tags": []
     },
     "output_type": "display_data"
    }
   ],
   "source": [
    "import matplotlib.pyplot as plt\n",
    "import matplotlib.ticker as ticker\n",
    "\n",
    "plt.figure()\n",
    "plt.plot(all_losses)\n",
    "plt.plot(test_losses, color='r')"
   ]
  },
  {
   "cell_type": "markdown",
   "metadata": {
    "id": "E4KepNiG0yWA"
   },
   "source": [
    "# Evaluate text generation\n",
    "\n",
    "Check what the outputted text looks like"
   ]
  },
  {
   "cell_type": "code",
   "execution_count": 19,
   "metadata": {
    "colab": {
     "base_uri": "https://localhost:8080/"
    },
    "collapsed": true,
    "id": "CWVZsu680yWA",
    "outputId": "4848214a-3060-4262-deee-5e3fd90ea06f"
   },
   "outputs": [
    {
     "name": "stdout",
     "output_type": "stream",
     "text": [
      "The gaoler, and with her but one sun,\n",
      "And then the old advantage bark and favence.\n",
      "\n",
      "KING RICHARD II:\n",
      "What, farewell, what you have heard the rash\n",
      "Mortal than gales. Catesby, I pray, though\n",
      "Is this once much as mine eyes: but it\n",
      "in their own, whom Bohemia's with a little guffst\n",
      "Shed the father, both half abroad in a mind;\n",
      "And therefore pleasure he was shortly at his\n",
      "true dangerous and the king; for had a husband,\n",
      "Virtue is but viewledge to-morrow.\n",
      "\n",
      "CLAUDIO:\n",
      "Ay, in my lady-shearers, whilst Watchman:\n",
      "Faith, yet wealthy house, we have begun to do.\n",
      "\n",
      "VOLUMNIA:\n",
      "Why, what you are now little to Rome,\n",
      "But Edward will not, farewell.\n",
      "\n",
      "COMINIUS:\n",
      "Why shall we do beseech you, make hearted city.\n",
      "\n",
      "KING EDWARD IV:\n",
      "Tush, I say, I remember, you should remember:\n",
      "I must be my wife; and, so, speak in their seas,\n",
      "This day many west I desire to her,\n",
      "She lives: get you out forth his ready appetite.\n",
      "\n",
      "JULIET:\n",
      "Then, Backing in Westminster; but whose states\n",
      "That I must be gone before the traitor.\n",
      "\n",
      "Clown:\n",
      "It is: there\n"
     ]
    }
   ],
   "source": [
    "print(evaluate(rnn, prime_str='Th', predict_len=1000))"
   ]
  },
  {
   "cell_type": "markdown",
   "metadata": {
    "id": "FT59pnY152q3"
   },
   "source": [
    "# Extra Credit\n",
    "Instead of english, where all alphabets are simply sequential. I will attempt to use korean, which a letter is a combination of multiple alphabets so I wonder how RNN will perform with korean file in generation.\n"
   ]
  },
  {
   "cell_type": "code",
   "execution_count": 1,
   "metadata": {
    "id": "kPFcOWKo6M1-"
   },
   "outputs": [],
   "source": [
    "# all_characters = string.printable\n",
    "# n_characters = len(all_characters)\n",
    "\n",
    "# file_path = 'language_data/sujin.txt'\n",
    "# file = unidecode.unidecode(open(file_path).read())\n",
    "# file_len = len(file)\n",
    "# print('file_len =', file_len)\n",
    "\n",
    "# # we will leave the last 1/10th of text as test\n",
    "# split = int(0.9*file_len)\n",
    "# train_text = file[:split]\n",
    "# test_text = file[split:]\n",
    "\n",
    "# print('train len: ', len(train_text))\n",
    "# print('test len: ', len(test_text))\n",
    "\n",
    "# chunk_len = 200\n",
    "\n",
    "# def random_chunk(text):\n",
    "#     start_index = random.randint(0, len(text) - chunk_len)\n",
    "#     end_index = start_index + chunk_len + 1\n",
    "#     return text[start_index:end_index]\n",
    "\n",
    "# print(random_chunk(train_text))"
   ]
  },
  {
   "cell_type": "code",
   "execution_count": null,
   "metadata": {
    "id": "GnO8kEj87cJO"
   },
   "outputs": [],
   "source": []
  }
 ],
 "metadata": {
  "accelerator": "GPU",
  "anaconda-cloud": {},
  "colab": {
   "machine_shape": "hm",
   "name": "MP4_P2_generation.ipynb",
   "provenance": []
  },
  "kernelspec": {
   "display_name": "Python 3",
   "language": "python",
   "name": "python3"
  },
  "language_info": {
   "codemirror_mode": {
    "name": "ipython",
    "version": 3
   },
   "file_extension": ".py",
   "mimetype": "text/x-python",
   "name": "python",
   "nbconvert_exporter": "python",
   "pygments_lexer": "ipython3",
   "version": "3.8.5"
  }
 },
 "nbformat": 4,
 "nbformat_minor": 1
}
