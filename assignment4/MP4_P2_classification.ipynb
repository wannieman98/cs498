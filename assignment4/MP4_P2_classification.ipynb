{
 "cells": [
  {
   "cell_type": "code",
   "execution_count": 1,
   "metadata": {
    "colab": {
     "base_uri": "https://localhost:8080/"
    },
    "id": "-q3fUgbnDaCl",
    "outputId": "52137697-aa8e-437c-d096-9b1df6d9f435"
   },
   "outputs": [
    {
     "name": "stdout",
     "output_type": "stream",
     "text": [
      "Mounted at /content/drive\n"
     ]
    }
   ],
   "source": [
    "from google.colab import drive\n",
    "drive.mount('/content/drive', force_remount=True)\n",
    "import os\n",
    "os.chdir('drive/My Drive/assignment4')"
   ]
  },
  {
   "cell_type": "code",
   "execution_count": 2,
   "metadata": {
    "colab": {
     "base_uri": "https://localhost:8080/"
    },
    "collapsed": true,
    "id": "xdwLAtRcDXvA",
    "outputId": "bedf1ad1-55ec-43cb-adb7-1b2ef61c5921"
   },
   "outputs": [
    {
     "name": "stdout",
     "output_type": "stream",
     "text": [
      "Collecting unidecode\n",
      "\u001b[?25l  Downloading https://files.pythonhosted.org/packages/9e/25/723487ca2a52ebcee88a34d7d1f5a4b80b793f179ee0f62d5371938dfa01/Unidecode-1.2.0-py2.py3-none-any.whl (241kB)\n",
      "\r",
      "\u001b[K     |█▍                              | 10kB 26.6MB/s eta 0:00:01\r",
      "\u001b[K     |██▊                             | 20kB 9.7MB/s eta 0:00:01\r",
      "\u001b[K     |████                            | 30kB 7.7MB/s eta 0:00:01\r",
      "\u001b[K     |█████▍                          | 40kB 7.0MB/s eta 0:00:01\r",
      "\u001b[K     |██████▉                         | 51kB 4.2MB/s eta 0:00:01\r",
      "\u001b[K     |████████▏                       | 61kB 4.7MB/s eta 0:00:01\r",
      "\u001b[K     |█████████▌                      | 71kB 4.9MB/s eta 0:00:01\r",
      "\u001b[K     |██████████▉                     | 81kB 5.1MB/s eta 0:00:01\r",
      "\u001b[K     |████████████▏                   | 92kB 5.0MB/s eta 0:00:01\r",
      "\u001b[K     |█████████████▋                  | 102kB 5.2MB/s eta 0:00:01\r",
      "\u001b[K     |███████████████                 | 112kB 5.2MB/s eta 0:00:01\r",
      "\u001b[K     |████████████████▎               | 122kB 5.2MB/s eta 0:00:01\r",
      "\u001b[K     |█████████████████▋              | 133kB 5.2MB/s eta 0:00:01\r",
      "\u001b[K     |███████████████████             | 143kB 5.2MB/s eta 0:00:01\r",
      "\u001b[K     |████████████████████▍           | 153kB 5.2MB/s eta 0:00:01\r",
      "\u001b[K     |█████████████████████▊          | 163kB 5.2MB/s eta 0:00:01\r",
      "\u001b[K     |███████████████████████         | 174kB 5.2MB/s eta 0:00:01\r",
      "\u001b[K     |████████████████████████▍       | 184kB 5.2MB/s eta 0:00:01\r",
      "\u001b[K     |█████████████████████████▊      | 194kB 5.2MB/s eta 0:00:01\r",
      "\u001b[K     |███████████████████████████▏    | 204kB 5.2MB/s eta 0:00:01\r",
      "\u001b[K     |████████████████████████████▌   | 215kB 5.2MB/s eta 0:00:01\r",
      "\u001b[K     |█████████████████████████████▉  | 225kB 5.2MB/s eta 0:00:01\r",
      "\u001b[K     |███████████████████████████████▏| 235kB 5.2MB/s eta 0:00:01\r",
      "\u001b[K     |████████████████████████████████| 245kB 5.2MB/s \n",
      "\u001b[?25hInstalling collected packages: unidecode\n",
      "Successfully installed unidecode-1.2.0\n"
     ]
    }
   ],
   "source": [
    "import os\n",
    "import time\n",
    "import math\n",
    "import glob\n",
    "import string\n",
    "import random \n",
    "\n",
    "import torch\n",
    "import torch.nn as nn\n",
    "!pip install unidecode\n",
    "from rnn.helpers import time_since\n",
    "\n",
    "%matplotlib inline"
   ]
  },
  {
   "cell_type": "code",
   "execution_count": 3,
   "metadata": {
    "collapsed": true,
    "id": "N36nTY5JDXvF"
   },
   "outputs": [],
   "source": [
    "device = torch.device(\"cuda:0\" if torch.cuda.is_available() else \"cpu\")"
   ]
  },
  {
   "cell_type": "markdown",
   "metadata": {
    "id": "lErMq3jIDXvG"
   },
   "source": [
    "# Language recognition with an RNN\n",
    "\n",
    "If you've ever used an online translator you've probably seen a feature that automatically detects the input language. While this might be easy to do if you input unicode characters that are unique to one or a small group of languages (like \"你好\" or \"γεια σας\"), this problem is more challenging if the input only uses the available ASCII characters. In this case, something like \"těší mě\" would beome \"tesi me\" in the ascii form. This is a more challenging problem in which the language must be recognized purely by the pattern of characters rather than unique unicode characters.\n",
    "\n",
    "We will train an RNN to solve this problem for a small set of languages thta can be converted to romanized ASCII form. For training data it would be ideal to have a large and varied dataset in different language styles. However, it is easy to find copies of the Bible which is a large text translated to different languages but in the same easily parsable format, so we will use 20 different copies of the Bible as training data. Using the same book for all of the different languages will hopefully prevent minor overfitting that might arise if we used different books for each language (fitting to common characteristics of the individual books rather than the language)."
   ]
  },
  {
   "cell_type": "code",
   "execution_count": 4,
   "metadata": {
    "colab": {
     "base_uri": "https://localhost:8080/"
    },
    "collapsed": true,
    "id": "0phvpCPtDXvG",
    "outputId": "71842db3-628f-44ee-f72e-49efe4a76d92"
   },
   "outputs": [
    {
     "name": "stdout",
     "output_type": "stream",
     "text": [
      "tesi me\n"
     ]
    }
   ],
   "source": [
    "from unidecode import unidecode as unicodeToAscii\n",
    "\n",
    "all_characters = string.printable\n",
    "n_letters = len(all_characters)\n",
    "\n",
    "print(unicodeToAscii('těší mě'))"
   ]
  },
  {
   "cell_type": "code",
   "execution_count": 5,
   "metadata": {
    "collapsed": true,
    "id": "thxtyIk3DXvH"
   },
   "outputs": [],
   "source": [
    "# Read a file and split into lines\n",
    "def readFile(filename):\n",
    "    data = open(filename, encoding='utf-8').read().strip()\n",
    "    return unicodeToAscii(data)\n",
    "\n",
    "def get_category_data(data_path):\n",
    "    # Build the category_data dictionary, a list of names per language\n",
    "    category_data = {}\n",
    "    all_categories = []\n",
    "    for filename in glob.glob(data_path):\n",
    "        category = os.path.splitext(os.path.basename(filename))[0].split('_')[0]\n",
    "        all_categories.append(category)\n",
    "        data = readFile(filename)\n",
    "        category_data[category] = data\n",
    "    \n",
    "    return category_data, all_categories"
   ]
  },
  {
   "cell_type": "markdown",
   "metadata": {
    "id": "geBVLNU3DXvH"
   },
   "source": [
    "The original text is split into two parts, train and test, so that we can make sure that the model is not simply memorizing the train data."
   ]
  },
  {
   "cell_type": "code",
   "execution_count": 6,
   "metadata": {
    "colab": {
     "base_uri": "https://localhost:8080/"
    },
    "collapsed": true,
    "id": "Q9FKeMVgDXvH",
    "outputId": "08be2fb8-3f50-4449-e47d-91fb0de9d747"
   },
   "outputs": [
    {
     "name": "stdout",
     "output_type": "stream",
     "text": [
      "20\n",
      "['lithuanian', 'french', 'romanian', 'english', 'vietnamese', 'finnish', 'german', 'maori', 'swedish', 'spanish', 'norwegian', 'albanian', 'czech', 'xhosa', 'esperanto', 'italian', 'turkish', 'danish', 'hungarian', 'portuguese']\n"
     ]
    }
   ],
   "source": [
    "train_data_path = 'language_data/train/*_train.txt'\n",
    "test_data_path = 'language_data/test/*_test.txt'\n",
    "\n",
    "train_category_data, all_categories = get_category_data(train_data_path)\n",
    "test_category_data, test_all_categories = get_category_data(test_data_path)\n",
    "\n",
    "n_languages = len(all_categories)\n",
    "\n",
    "print(len(all_categories))\n",
    "print(all_categories)"
   ]
  },
  {
   "cell_type": "markdown",
   "metadata": {
    "id": "FwyAVAOlDXvH"
   },
   "source": [
    "# Data processing"
   ]
  },
  {
   "cell_type": "code",
   "execution_count": 7,
   "metadata": {
    "collapsed": true,
    "id": "pB8OvKLVDXvH"
   },
   "outputs": [],
   "source": [
    "def categoryFromOutput(output):\n",
    "    top_n, top_i = output.topk(1, dim=1)\n",
    "    category_i = top_i[:, 0]\n",
    "    return category_i\n",
    "\n",
    "# Turn string into long tensor\n",
    "def stringToTensor(string):\n",
    "    tensor = torch.zeros(len(string), requires_grad=True).long()\n",
    "    for c in range(len(string)):\n",
    "        tensor[c] = all_characters.index(string[c])\n",
    "    return tensor\n",
    "\n",
    "def load_random_batch(text, chunk_len, batch_size):\n",
    "    input_data = torch.zeros(batch_size, chunk_len).long().to(device)\n",
    "    target = torch.zeros(batch_size, 1).long().to(device)\n",
    "    input_text = []\n",
    "    for i in range(batch_size):\n",
    "        category = all_categories[random.randint(0, len(all_categories) - 1)]\n",
    "        line_start = random.randint(0, len(text[category])-chunk_len)\n",
    "        category_tensor = torch.tensor([all_categories.index(category)], dtype=torch.long)\n",
    "        line = text[category][line_start:line_start+chunk_len]\n",
    "        input_text.append(line)\n",
    "        input_data[i] = stringToTensor(line)\n",
    "        target[i] = category_tensor\n",
    "    return input_data, target, input_text"
   ]
  },
  {
   "cell_type": "markdown",
   "metadata": {
    "id": "mhNGoF4JDXvI"
   },
   "source": [
    "Implement Model\n",
    "====================\n",
    "\n",
    "For this classification task, we can use the same model we implement for the generation task which is located in `rnn/model.py`. See the `MP4_P2_generation.ipynb` notebook for more instructions. In this case each output vector of our RNN will have the dimension of the number of possible languages (i.e. `n_languages`). We will use this vector to predict a distribution over the languages.\n",
    "\n",
    "In the generation task, we used the output of the RNN at every time step to predict the next letter and our loss included the output from each of these predictions. However, in this task we use the output of the RNN at the end of the sequence to predict the language, so our loss function will use only the predicted output from the last time step.\n",
    "\n"
   ]
  },
  {
   "cell_type": "markdown",
   "metadata": {
    "id": "LfUOC5UgDXvI"
   },
   "source": [
    "# Train RNN"
   ]
  },
  {
   "cell_type": "code",
   "execution_count": 8,
   "metadata": {
    "collapsed": true,
    "id": "eSeXoswiDXvI"
   },
   "outputs": [],
   "source": [
    "from rnn.model import RNN"
   ]
  },
  {
   "cell_type": "code",
   "execution_count": 9,
   "metadata": {
    "collapsed": true,
    "id": "XVI9RF28DXvJ"
   },
   "outputs": [],
   "source": [
    "chunk_len = 50\n",
    "\n",
    "BATCH_SIZE = 100\n",
    "n_epochs = 10000\n",
    "hidden_size = 300 #250 #200\n",
    "n_layers = 3 #2\n",
    "learning_rate = 0.0008 #0.003\n",
    "model_type = \"gru\"\n",
    "\n",
    "criterion = nn.CrossEntropyLoss()\n",
    "rnn = RNN(n_letters, hidden_size, n_languages, model_type=model_type, n_layers=n_layers).to(device)"
   ]
  },
  {
   "cell_type": "markdown",
   "metadata": {
    "id": "JjPdCJnpDXvJ"
   },
   "source": [
    "**TODO:** Fill in the train function. You should initialize a hidden layer representation using your RNN's `init_hidden` function, set the model gradients to zero, and loop over each time step (character) in the input tensor. For each time step compute the output of the of the RNN and the next hidden layer representation. The cross entropy loss should be computed over the last RNN output scores from the end of the sequence and the target classification tensor. Lastly, call backward on the loss and take an optimizer step."
   ]
  },
  {
   "cell_type": "code",
   "execution_count": 10,
   "metadata": {
    "collapsed": true,
    "id": "piBZ7PVMDXvJ"
   },
   "outputs": [],
   "source": [
    "def train(rnn, target_tensor, data_tensor, optimizer, criterion, batch_size=BATCH_SIZE):\n",
    "    \"\"\"\n",
    "    Inputs:\n",
    "    - rnn: model\n",
    "    - target_target: target character data tensor of shape (batch_size, 1)\n",
    "    - data_tensor: input character data tensor of shape (batch_size, chunk_len)\n",
    "    - optimizer: rnn model optimizer\n",
    "    - criterion: loss function\n",
    "    - batch_size: data batch size\n",
    "    \n",
    "    Returns:\n",
    "    - output: output from RNN from end of sequence \n",
    "    - loss: computed loss value as python float\n",
    "    \n",
    "    \"\"\"\n",
    "    \n",
    "    output, loss = None, 0\n",
    "    \n",
    "    ####################################\n",
    "    #          YOUR CODE HERE          #\n",
    "    ####################################\n",
    "    hidden = rnn.init_hidden(batch_size=batch_size, device=device)\n",
    "    rnn.zero_grad()\n",
    "    for chunk in range(chunk_len):\n",
    "        output, hidden = rnn(data_tensor[:,chunk], hidden)\n",
    "        loss += criterion(output.view(data_tensor.size(0), -1), target_tensor.squeeze())\n",
    "        \n",
    "    loss.data /= chunk_len\n",
    "\n",
    "    loss.backward()\n",
    "    optimizer.step()\n",
    "    ##########       END      ##########\n",
    "\n",
    "    return output, loss\n",
    "    "
   ]
  },
  {
   "cell_type": "code",
   "execution_count": 11,
   "metadata": {
    "collapsed": true,
    "id": "US53Nkk7DXvJ"
   },
   "outputs": [],
   "source": [
    "def evaluate(rnn, data_tensor, seq_len=chunk_len, batch_size=BATCH_SIZE):\n",
    "    with torch.no_grad():\n",
    "        data_tensor = data_tensor.to(device)\n",
    "        hidden = rnn.init_hidden(batch_size, device=device)\n",
    "        for i in range(seq_len):\n",
    "            output, hidden = rnn(data_tensor[:,i], hidden)\n",
    "        \n",
    "        return output\n",
    "    \n",
    "def eval_test(rnn, category_tensor, data_tensor):\n",
    "    with torch.no_grad():\n",
    "        output = evaluate(rnn, data_tensor)\n",
    "        loss = criterion(output, category_tensor.squeeze())\n",
    "        return output, loss.item()"
   ]
  },
  {
   "cell_type": "code",
   "execution_count": 12,
   "metadata": {
    "colab": {
     "base_uri": "https://localhost:8080/"
    },
    "collapsed": true,
    "id": "mckXoDpZDXvK",
    "outputId": "0ca3eeb5-a3d7-467e-93cb-2ab3d55404c6",
    "scrolled": true
   },
   "outputs": [
    {
     "name": "stdout",
     "output_type": "stream",
     "text": [
      "50 1% (0m 4s) 1.6650 1.1223 ere de tot de un miros placut Domnului, impreuna c / romanian ✓\n",
      "Train accuracy: 0.373\n",
      "100 2% (0m 8s) 1.2655 0.5774 ostro, y violaran mi lugar secreto; pues entraran  / italian ✗ (spanish)\n",
      "Train accuracy: 0.7226\n",
      "150 3% (0m 12s) 0.8989 0.3394 y have respect to that which their fingers have ma / english ✓\n",
      "Train accuracy: 0.8352\n",
      "200 4% (0m 16s) 0.8783 0.1544 trusse per sempre; e quel che ha fatto per voi nel / italian ✓\n",
      "Train accuracy: 0.8858\n",
      "250 5% (0m 21s) 0.8068 0.1702 onig von Assyrien, herauf wider alle festen Stadte / german ✓\n",
      "Train accuracy: 0.902\n",
      "300 6% (0m 25s) 0.6438 0.0956 h buzku a nahlizet do jater. V pravici bude mit ve / czech ✓\n",
      "Train accuracy: 0.927\n",
      "350 7% (0m 29s) 0.7298 0.1838  Akkor hivjak azt az o varosanak venei, es beszelj / hungarian ✓\n",
      "Train accuracy: 0.9466\n",
      "400 8% (0m 33s) 0.6197 0.1087 ahina donuyor. Sen de onun ardindan git>> dedi. Ru / turkish ✓\n",
      "Train accuracy: 0.9512\n",
      "450 9% (0m 37s) 0.6533 0.0482 atok eltartja azokat. Nem sokkal kulonbek vagytok- / hungarian ✓\n",
      "Train accuracy: 0.9606\n",
      "500 10% (0m 42s) 0.5362 0.0580 . Dhe ne asnje tjeter nuk ka shpetim, sepse nuk ka / albanian ✓\n",
      "Train accuracy: 0.9654\n",
      "550 11% (0m 46s) 0.5763 0.0747 fue llevada en cautiverio: tambien sus chiquitos f / french ✗ (spanish)\n",
      "Train accuracy: 0.9724\n",
      "600 12% (0m 50s) 0.6172 0.0459 er mich sieht>>. Siehe, er ist zwischen Kadesch un / german ✓\n",
      "Train accuracy: 0.9742\n",
      "650 13% (0m 54s) 0.4987 0.0316 o slapima?\" Rabsake atsistojo ir garsiai sauke zyd / lithuanian ✓\n",
      "Train accuracy: 0.976\n",
      "700 14% (0m 58s) 0.4740 0.0220 e caer en heredad, la tierra de Canaan segun sus t / spanish ✓\n",
      "Train accuracy: 0.978\n",
      "750 15% (1m 2s) 0.4730 0.0643 lilungisa oqalelayo etyaleni lakhe: Uza ummelwane  / xhosa ✓\n",
      "Train accuracy: 0.9828\n",
      "800 16% (1m 7s) 0.4965 0.0221 iecare lucru la ziua hotarita. Afara de aceasta sa / romanian ✓\n",
      "Train accuracy: 0.9814\n",
      "850 17% (1m 11s) 0.4541 0.0232 u verdi;<br />Gozlerinizi muhurledi, ey peygamberl / turkish ✓\n",
      "Train accuracy: 0.9822\n",
      "900 18% (1m 15s) 0.4649 0.0336 : ''Eshte e shtune; nuk eshte e ligjshme per ty te / albanian ✓\n",
      "Train accuracy: 0.9844\n",
      "950 19% (1m 19s) 0.4677 0.0264 largira ogni bene, e la nostra terra produrra il s / italian ✓\n",
      "Train accuracy: 0.9898\n",
      "1000 20% (1m 23s) 0.4066 0.0109 andern! Und der Furst, der in ihrer Mitte ist, wir / german ✓\n",
      "Train accuracy: 0.9886\n",
      "1050 21% (1m 28s) 0.4101 0.0123  also Bethoronnak hataraig es Gezerig, a szelei pe / hungarian ✓\n",
      "Train accuracy: 0.9884\n",
      "1100 22% (1m 32s) 0.4574 0.0368 mnul este bun, caci in veac tine indurarea Lui!` G / romanian ✓\n",
      "Train accuracy: 0.9876\n",
      "1150 23% (1m 36s) 0.4499 0.0634 ou-se dela; angustia e dores apossaram-se dela com / portuguese ✓\n",
      "Train accuracy: 0.9886\n",
      "1200 24% (1m 40s) 0.4372 0.0155 ama a Ereatara, tama a Arona tohunga, ka whakatika / maori ✓\n",
      "Train accuracy: 0.9916\n",
      "1250 25% (1m 44s) 0.4174 0.0105 azukisa uThixo, esithi, Inene, lo mntu ubelilungis / xhosa ✓\n",
      "Train accuracy: 0.9912\n",
      "1300 26% (1m 49s) 0.4562 0.0505  venit nebunul acesta la tine?`` Iehu le -a raspun / romanian ✓\n",
      "Train accuracy: 0.987\n",
      "1350 27% (1m 53s) 0.4020 0.0173 alamikoj, kaj neniu vin helpos. Viaj filoj kaj via / esperanto ✓\n",
      "Train accuracy: 0.9928\n",
      "1400 28% (1m 57s) 0.4333 0.0263 mer kongens sonner; det er gatt som din tjener sa. / norwegian ✓\n",
      "Train accuracy: 0.9886\n",
      "1450 28% (2m 1s) 0.3938 0.0275  de las gentes que estaban alrededor de ellos, de  / spanish ✓\n",
      "Train accuracy: 0.9912\n",
      "1500 30% (2m 5s) 0.4237 0.0282 ng nao loan? Va nhung dan toc toan muu chuoc hu kh / vietnamese ✓\n",
      "Train accuracy: 0.994\n",
      "1550 31% (2m 10s) 0.3703 0.0069 de Dieu, pour l'ouvre qu'ils avaient accomplie. Et / french ✓\n",
      "Train accuracy: 0.992\n",
      "1600 32% (2m 14s) 0.3342 0.0053 grodeofre, Braendofre og Takofre for at skaffe ede / danish ✓\n",
      "Train accuracy: 0.9936\n",
      "1650 33% (2m 18s) 0.4233 0.0067 em og lod dem drage bort, og de begav sig til dere / danish ✓\n",
      "Train accuracy: 0.9922\n",
      "1700 34% (2m 22s) 0.4687 0.0129  dang lam y nhu hoang hau da noi. Doan, vua va Ha- / vietnamese ✓\n",
      "Train accuracy: 0.991\n",
      "1750 35% (2m 26s) 0.4652 0.0649 m carneiro; eles serao sem mancha. Tambem ele prov / portuguese ✓\n",
      "Train accuracy: 0.9944\n",
      "1800 36% (2m 31s) 0.4196 0.0043  tasalle. Sen tahden herpoaa jokainen kasi ja joka / finnish ✓\n",
      "Train accuracy: 0.994\n",
      "1850 37% (2m 35s) 0.4057 0.0115 t widerfahre, die euch verderbe, wenn ich die Agyp / german ✓\n",
      "Train accuracy: 0.9936\n",
      "1900 38% (2m 39s) 0.4536 0.0409  Nincs itt mar tobb profetaja az Urnak, hogy attol / hungarian ✓\n",
      "Train accuracy: 0.9904\n",
      "1950 39% (2m 43s) 0.3680 0.0127 u, i tenei tau. A homai ana e Ihowa ki a Horomona  / maori ✓\n",
      "Train accuracy: 0.9942\n",
      "2000 40% (2m 47s) 0.3896 0.0026 u ngrit dhe mundi Edomitet qe e kishin rrethuar dh / albanian ✓\n",
      "Train accuracy: 0.9954\n",
      "2050 41% (2m 52s) 0.4171 0.0030  vilde Dyr, og disse tre Maend var i dets Midte -  / danish ✓\n",
      "Train accuracy: 0.9926\n",
      "2100 42% (2m 56s) 0.3891 0.0044 Betel lucrurile acestea pe cari le implinesti tu.` / romanian ✓\n",
      "Train accuracy: 0.9954\n",
      "2150 43% (3m 0s) 0.3607 0.0070 : \"Tule tanne, kaljupaa! Tule tanne, kaljupaa!\" Ha / finnish ✓\n",
      "Train accuracy: 0.996\n",
      "2200 44% (3m 4s) 0.3415 0.0064 e vaere med ham, og som han kunde sende ut for a f / norwegian ✓\n",
      "Train accuracy: 0.9942\n",
      "2250 45% (3m 8s) 0.3784 0.0088 aul. Kerran, kun he olivat palvelemassa Herraa ja  / finnish ✓\n",
      "Train accuracy: 0.9936\n",
      "2300 46% (3m 12s) 0.3439 0.0031 elques-uns se leverent, qui porterent un faux temo / french ✓\n",
      "Train accuracy: 0.9936\n",
      "2350 47% (3m 17s) 0.3792 0.0163 beve, do te ngrihem lart mbi toke. Zoti i ushtrive / albanian ✓\n",
      "Train accuracy: 0.9936\n",
      "2400 48% (3m 21s) 0.4109 0.0050 endo: Dame tu vina para un huerto de legumbres, po / spanish ✓\n",
      "Train accuracy: 0.9952\n",
      "2450 49% (3m 25s) 0.3532 0.0008 tek deset tisic! Ne-li proto, ze je prodala jejich / czech ✓\n",
      "Train accuracy: 0.996\n",
      "2500 50% (3m 29s) 0.3834 0.0440 luogo fu dato il nome di Kibroth-Hattaava, perche  / italian ✓\n",
      "Train accuracy: 0.9936\n",
      "2550 51% (3m 34s) 0.4238 0.0161 in the midst of them; and the nations shall know t / english ✓\n",
      "Train accuracy: 0.9948\n",
      "2600 52% (3m 38s) 0.3512 0.0095  og over rikene til a rykke op og rive ned, til a  / norwegian ✓\n",
      "Train accuracy: 0.9946\n",
      "2650 53% (3m 42s) 0.3744 0.0025 n de la Benjamenidoj. Kaj se venos iliaj patroj au / esperanto ✓\n",
      "Train accuracy: 0.9946\n",
      "2700 54% (3m 46s) 0.3290 0.0099 uoc toi cho nguoi ay, va toi nguoi se duoc tha. Kh / vietnamese ✓\n",
      "Train accuracy: 0.9964\n",
      "2750 55% (3m 50s) 0.3646 0.0166  ezombingelelo woxolo zambini iinkomo, zantlanu ii / xhosa ✓\n",
      "Train accuracy: 0.9956\n",
      "2800 56% (3m 54s) 0.3623 0.0320 yri tvare a ctyri kridla a pod kridly ruce podobne / czech ✓\n",
      "Train accuracy: 0.9968\n",
      "2850 56% (3m 59s) 0.3781 0.0276  Commit [thyself] unto Jehovah; Let him deliver hi / english ✓\n",
      "Train accuracy: 0.994\n",
      "2900 57% (4m 3s) 0.3343 0.0051 nyana kaYarowa, unyana kaGiliyadi, unyana kaMikaye / xhosa ✓\n",
      "Train accuracy: 0.9958\n",
      "2950 59% (4m 7s) 0.3132 0.0040 , jiz ho korunovala jeho matka v den jeho svatby,  / czech ✓\n",
      "Train accuracy: 0.9958\n",
      "3000 60% (4m 11s) 0.3461 0.0295  e questi sono i loro veri nomi: Ohola e Samaria,  / italian ✓\n",
      "Train accuracy: 0.9956\n",
      "3050 61% (4m 15s) 0.3535 0.0258 icecek. << <Hizkiya, RAB bizi kurtaracak diyerek s / turkish ✓\n",
      "Train accuracy: 0.9954\n",
      "3100 62% (4m 20s) 0.3979 0.0267 den och styrkte dem till tjanstgoringen i HERRENS  / swedish ✓\n",
      "Train accuracy: 0.9978\n",
      "3150 63% (4m 24s) 0.3394 0.0012 t; men nar han oppnar sina ogon, ar ingenting kvar / swedish ✓\n",
      "Train accuracy: 0.9968\n",
      "3200 64% (4m 28s) 0.3597 0.0007 az anyjanal; mint az elvalasztott gyermek, olyan b / hungarian ✓\n",
      "Train accuracy: 0.997\n",
      "3250 65% (4m 32s) 0.3481 0.0107 telter langs hele ostsiden av Gilead. Og Gads barn / norwegian ✓\n",
      "Train accuracy: 0.996\n",
      "3300 66% (4m 36s) 0.3349 0.0032 e Brod!\" Jesus sagde til dem: \"Jeg er Livets Brod. / danish ✓\n",
      "Train accuracy: 0.9956\n",
      "3350 67% (4m 41s) 0.3270 0.0147 a ira do Senhor quem escapasse ou ficasse; aqueles / portuguese ✓\n",
      "Train accuracy: 0.9976\n",
      "3400 68% (4m 45s) 0.4133 0.0133 ttet blev kokt, kom prestens dreng og hadde en gaf / norwegian ✓\n",
      "Train accuracy: 0.9978\n",
      "3450 69% (4m 49s) 0.2880 0.0011 pribytku a oltare postavil nadvori a do brany nadv / czech ✓\n",
      "Train accuracy: 0.9966\n",
      "3500 70% (4m 53s) 0.4085 0.0004 alu: Chvalu vzdejte Hospodinu a vzyvejte jeho jmen / czech ✓\n",
      "Train accuracy: 0.995\n",
      "3550 71% (4m 57s) 0.3215 0.0061 es. De su fuerza esperare yo en ti: Porque Dios es / spanish ✓\n",
      "Train accuracy: 0.997\n",
      "3600 72% (5m 2s) 0.2892 0.0026 s. Pelo que o Senhor suscita contra eles os advers / portuguese ✓\n",
      "Train accuracy: 0.9972\n",
      "3650 73% (5m 6s) 0.3760 0.0138 m i verden og en leder for nasareernes sekt; han h / norwegian ✓\n",
      "Train accuracy: 0.9974\n",
      "3700 74% (5m 10s) 0.2959 0.0014 er ist der Grosste im Himmelreich. Und wer ein sol / german ✓\n",
      "Train accuracy: 0.9968\n",
      "3750 75% (5m 14s) 0.3106 0.0031 aphakathi ngeeplanga zemisedare,  ethabathela emga / xhosa ✓\n",
      "Train accuracy: 0.996\n",
      "3800 76% (5m 18s) 0.3522 0.0079 loi gia doi, Thi cac toi to nguoi tro nen gian ac. / vietnamese ✓\n",
      "Train accuracy: 0.997\n",
      "3850 77% (5m 22s) 0.3182 0.0010 ar son coeur s'eleva, et il y eut de l'indignation / french ✓\n",
      "Train accuracy: 0.997\n",
      "3900 78% (5m 27s) 0.4022 0.0060 tros con los apostoles. Y haciendo impetu los Judi / spanish ✓\n",
      "Train accuracy: 0.9962\n",
      "3950 79% (5m 31s) 0.3223 0.0005  os. Men da Josef vagnede op at Sovnen, gjorde han / danish ✓\n",
      "Train accuracy: 0.9964\n",
      "4000 80% (5m 35s) 0.3270 0.0012 akavuma ukutyeka ekumlandeleni. Wabuya waphinda wa / xhosa ✓\n",
      "Train accuracy: 0.997\n",
      "4050 81% (5m 39s) 0.3078 0.0036 Israelin Jumala. Maan aarilta saakka me kuulemme l / finnish ✓\n",
      "Train accuracy: 0.995\n",
      "4100 82% (5m 43s) 0.3411 0.0028 folla di pubblicani e d'altri che erano a tavola c / italian ✓\n",
      "Train accuracy: 0.9974\n",
      "4150 83% (5m 48s) 0.3398 0.0003 tu istatymu, be to, jie nesilaiko karaliaus istaty / lithuanian ✓\n",
      "Train accuracy: 0.9982\n",
      "4200 84% (5m 52s) 0.2831 0.0002  uyarinca, sizi verecegi ulkeye -insa etmediginiz  / turkish ✓\n",
      "Train accuracy: 0.997\n",
      "4250 85% (5m 56s) 0.3522 0.0034 r hende, har hun en Dreng. Hvo horte vel Mage dert / danish ✓\n",
      "Train accuracy: 0.9958\n",
      "4300 86% (6m 0s) 0.2943 0.0032 . Y levantandose prestamente de su lugar los que e / spanish ✓\n",
      "Train accuracy: 0.9974\n",
      "4350 87% (6m 4s) 0.3193 0.0006 ki o nga iwi. Ka wehi ano ki au tohu te hunga e no / maori ✓\n",
      "Train accuracy: 0.9964\n",
      "4400 88% (6m 9s) 0.3122 0.0064 : Ezt mondja az Ur, Izrael Istene: Mint ezeket a j / hungarian ✓\n",
      "Train accuracy: 0.9962\n",
      "4450 89% (6m 13s) 0.3320 0.0265 i; neperzengiau Tavo isakymu ir neuzmirsau paliepi / lithuanian ✓\n",
      "Train accuracy: 0.9958\n",
      "4500 90% (6m 17s) 0.3370 0.0040 umo: El sol se volvera en tinieblas, Y la luna en  / spanish ✓\n",
      "Train accuracy: 0.9982\n",
      "4550 91% (6m 21s) 0.3272 0.0032 -si, lam cho cac Hoi thanh duoc vung ben. Phao-lo  / vietnamese ✓\n",
      "Train accuracy: 0.996\n",
      "4600 92% (6m 26s) 0.3445 0.0047 aneses sate. Atehere un do te vij tek altari i Per / albanian ✓\n",
      "Train accuracy: 0.9966\n",
      "4650 93% (6m 30s) 0.3124 0.0005 apok is csufolodvan az irastudokkal es a venekkel  / hungarian ✓\n",
      "Train accuracy: 0.998\n",
      "4700 94% (6m 34s) 0.3751 0.0099 e prie Viespaties, jusu Dievo, Sandoros skrynios.  / lithuanian ✓\n",
      "Train accuracy: 0.9968\n",
      "4750 95% (6m 38s) 0.3633 0.0071 ke, sepse ajke dhe mjalte kane per te ngrene te gj / albanian ✓\n",
      "Train accuracy: 0.9982\n",
      "4800 96% (6m 42s) 0.3297 0.0069 . He rahi hoki te hui i haere ki a ia, i a ratou a / maori ✓\n",
      "Train accuracy: 0.9978\n",
      "4850 97% (6m 47s) 0.3555 0.0571 ben? Denn sein Leben wird von der Erde weggenommen / german ✓\n",
      "Train accuracy: 0.9972\n",
      "4900 98% (6m 51s) 0.3095 0.0075  bulunacagim bir tapinak yaptirmak icin Israil oym / turkish ✓\n",
      "Train accuracy: 0.9974\n",
      "4950 99% (6m 55s) 0.3574 0.0011 esen, hin zur Schwelle des Hauses und rief dem Man / german ✓\n",
      "Train accuracy: 0.9974\n",
      "5000 100% (6m 59s) 0.3385 0.0005 han gikk til den ene og sa: Sonn, ga idag og arbei / norwegian ✓\n",
      "Train accuracy: 0.9966\n"
     ]
    }
   ],
   "source": [
    "n_iters = 5000\n",
    "print_every = 50\n",
    "plot_every = 50\n",
    "\n",
    "\n",
    "# Keep track of losses for plotting\n",
    "current_loss = 0\n",
    "current_test_loss = 0\n",
    "all_losses = []\n",
    "all_test_losses = []\n",
    "\n",
    "start = time.time()\n",
    "\n",
    "optimizer = torch.optim.Adam(rnn.parameters(), lr=learning_rate)\n",
    "\n",
    "\n",
    "number_correct = 0\n",
    "for iter in range(1, n_iters + 1):\n",
    "    input_data, target_category, text_data = load_random_batch(train_category_data, chunk_len, BATCH_SIZE)\n",
    "    output, loss = train(rnn, target_category, input_data, optimizer, criterion)\n",
    "    current_loss += loss\n",
    "    \n",
    "    _, test_loss = eval_test(rnn, target_category, input_data)\n",
    "    current_test_loss += test_loss\n",
    "    \n",
    "    guess_i = categoryFromOutput(output)\n",
    "    number_correct += (target_category.squeeze()==guess_i.squeeze()).long().sum()\n",
    "    \n",
    "    # Print iter number, loss, name and guess\n",
    "    if iter % print_every == 0:\n",
    "        sample_idx = 0\n",
    "        guess = all_categories[guess_i[sample_idx]]\n",
    "        \n",
    "        category = all_categories[int(target_category[sample_idx])]\n",
    "        \n",
    "        correct = '✓' if guess == category else '✗ (%s)' % category\n",
    "        print('%d %d%% (%s) %.4f %.4f %s / %s %s' % (iter, iter / n_iters * 100, time_since(start), loss, test_loss, text_data[sample_idx], guess, correct))\n",
    "        print('Train accuracy: {}'.format(float(number_correct)/float(print_every*BATCH_SIZE)))\n",
    "        number_correct = 0\n",
    "    \n",
    "    # Add current loss avg to list of losses\n",
    "    if iter % plot_every == 0:\n",
    "        all_losses.append(current_loss / plot_every)\n",
    "        current_loss = 0\n",
    "        all_test_losses.append(current_test_loss / plot_every)\n",
    "        current_test_loss = 0"
   ]
  },
  {
   "cell_type": "markdown",
   "metadata": {
    "id": "v_sj4lEsDXvK"
   },
   "source": [
    "Plot loss functions\n",
    "--------------------\n",
    "\n"
   ]
  },
  {
   "cell_type": "code",
   "execution_count": 13,
   "metadata": {
    "colab": {
     "base_uri": "https://localhost:8080/",
     "height": 282
    },
    "collapsed": true,
    "id": "laBEcRZDDXvK",
    "outputId": "cdbd2567-75ec-434f-c985-4f369bf4509a",
    "scrolled": true
   },
   "outputs": [
    {
     "data": {
      "text/plain": [
       "[<matplotlib.lines.Line2D at 0x7f0c9e5f7690>]"
      ]
     },
     "execution_count": 13,
     "metadata": {
      "tags": []
     },
     "output_type": "execute_result"
    },
    {
     "data": {
      "image/png": "[encoded data removed]",
      "text/plain": [
       "<Figure size 432x288 with 1 Axes>"
      ]
     },
     "metadata": {
      "needs_background": "light",
      "tags": []
     },
     "output_type": "display_data"
    }
   ],
   "source": [
    "import matplotlib.pyplot as plt\n",
    "import matplotlib.ticker as ticker\n",
    "\n",
    "plt.figure()\n",
    "plt.plot(all_losses, color='b')\n",
    "plt.plot(all_test_losses, color='r')"
   ]
  },
  {
   "cell_type": "markdown",
   "metadata": {
    "id": "0l6YcGU_DXvK"
   },
   "source": [
    "Evaluate results\n",
    "-------------------\n",
    "\n",
    "We now vizualize the performance of our model by creating a confusion matrix. The ground truth languages of samples are represented by rows in the matrix while the predicted languages are represented by columns.\n",
    "\n",
    "In this evaluation we consider sequences of variable sizes rather than the fixed length sequences we used for training."
   ]
  },
  {
   "cell_type": "code",
   "execution_count": 14,
   "metadata": {
    "colab": {
     "base_uri": "https://localhost:8080/",
     "height": 337
    },
    "collapsed": true,
    "id": "n2cragKmDXvK",
    "outputId": "6bd1aab0-06df-4b57-fb5e-4cc816c160f0"
   },
   "outputs": [
    {
     "name": "stdout",
     "output_type": "stream",
     "text": [
      "Test accuracy:  0.974\n"
     ]
    },
    {
     "data": {
      "image/png": "[encoded data removed]",
      "text/plain": [
       "<Figure size 432x288 with 2 Axes>"
      ]
     },
     "metadata": {
      "needs_background": "light",
      "tags": []
     },
     "output_type": "display_data"
    }
   ],
   "source": [
    "eval_batch_size = 1  # needs to be set to 1 for evaluating different sequence lengths\n",
    "\n",
    "# Keep track of correct guesses in a confusion matrix\n",
    "confusion = torch.zeros(n_languages, n_languages)\n",
    "n_confusion = 1000\n",
    "num_correct = 0\n",
    "total = 0\n",
    "\n",
    "for i in range(n_confusion):\n",
    "    eval_chunk_len = random.randint(10, 50) # in evaluation we will look at sequences of variable sizes\n",
    "    input_data, target_category, text_data = load_random_batch(test_category_data, chunk_len=eval_chunk_len, batch_size=eval_batch_size)\n",
    "    output = evaluate(rnn, input_data, seq_len=eval_chunk_len, batch_size=eval_batch_size)\n",
    "    \n",
    "    guess_i = categoryFromOutput(output)\n",
    "    category_i = [int(target_category[idx]) for idx in range(len(target_category))]\n",
    "    for j in range(eval_batch_size):\n",
    "        category = all_categories[category_i[j]] \n",
    "        confusion[category_i[j]][guess_i[j]] += 1\n",
    "        num_correct += int(guess_i[j]==category_i[j])\n",
    "        total += 1\n",
    "\n",
    "print('Test accuracy: ', float(num_correct)/float(n_confusion*eval_batch_size))\n",
    "\n",
    "# Normalize by dividing every row by its sum\n",
    "for i in range(n_languages):\n",
    "    confusion[i] = confusion[i] / confusion[i].sum()\n",
    "\n",
    "# Set up plot\n",
    "fig = plt.figure()\n",
    "ax = fig.add_subplot(111)\n",
    "cax = ax.matshow(confusion.numpy())\n",
    "fig.colorbar(cax)\n",
    "\n",
    "# Set up axes\n",
    "ax.set_xticklabels([''] + all_categories, rotation=90)\n",
    "ax.set_yticklabels([''] + all_categories)\n",
    "\n",
    "# Force label at every tick\n",
    "ax.xaxis.set_major_locator(ticker.MultipleLocator(1))\n",
    "ax.yaxis.set_major_locator(ticker.MultipleLocator(1))\n",
    "\n",
    "plt.show()"
   ]
  },
  {
   "cell_type": "markdown",
   "metadata": {
    "id": "8YmPd_jSDXvL"
   },
   "source": [
    "You can pick out bright spots off the main axis that show which\n",
    "languages it guesses incorrectly.\n",
    "\n",
    "\n"
   ]
  },
  {
   "cell_type": "markdown",
   "metadata": {
    "id": "OwGXrVcuDXvL"
   },
   "source": [
    "Run on User Input\n",
    "---------------------\n",
    "\n",
    "Now you can test your model on your own input. \n"
   ]
  },
  {
   "cell_type": "code",
   "execution_count": 15,
   "metadata": {
    "colab": {
     "base_uri": "https://localhost:8080/"
    },
    "collapsed": true,
    "id": "4DWTip6aDXvL",
    "outputId": "dd1e9533-cc30-4135-969d-c85ecca92ebf"
   },
   "outputs": [
    {
     "name": "stdout",
     "output_type": "stream",
     "text": [
      "\n",
      "> This is a phrase to test the model on user input\n",
      "(15.59) english\n",
      "(2.16) albanian\n",
      "(2.14) french\n",
      "(1.76) czech\n",
      "(1.60) swedish\n"
     ]
    }
   ],
   "source": [
    "def predict(input_line, n_predictions=5):\n",
    "    print('\\n> %s' % input_line)\n",
    "    with torch.no_grad():\n",
    "        input_data = stringToTensor(input_line).long().unsqueeze(0).to(device)\n",
    "        output = evaluate(rnn, input_data, seq_len=len(input_line), batch_size=1)\n",
    "\n",
    "    # Get top N categories\n",
    "    topv, topi = output.topk(n_predictions, dim=1)\n",
    "    predictions = []\n",
    "\n",
    "    for i in range(n_predictions):\n",
    "        topv.shape\n",
    "        topi.shape\n",
    "        value = topv[0][i].item()\n",
    "        category_index = topi[0][i].item()\n",
    "        print('(%.2f) %s' % (value, all_categories[category_index]))\n",
    "        predictions.append([value, all_categories[category_index]])\n",
    "\n",
    "predict('This is a phrase to test the model on user input')\n"
   ]
  },
  {
   "cell_type": "markdown",
   "metadata": {
    "id": "8Iy3FoNODXvL"
   },
   "source": [
    "# Output Kaggle submission file\n",
    "\n",
    "Once you have found a good set of hyperparameters submit the output of your model on the Kaggle test file."
   ]
  },
  {
   "cell_type": "code",
   "execution_count": null,
   "metadata": {
    "collapsed": true,
    "id": "_ln_udKiDXvM"
   },
   "outputs": [],
   "source": [
    "### DO NOT CHANGE KAGGLE SUBMISSION CODE ####\n",
    "import csv\n",
    "\n",
    "kaggle_test_file_path = 'language_data/kaggle_rnn_language_classification_test.txt'\n",
    "with open(kaggle_test_file_path, 'r') as f:\n",
    "    lines = f.readlines()\n",
    "\n",
    "output_rows = []\n",
    "for i, line in enumerate(lines):\n",
    "    sample = line.rstrip()\n",
    "    sample_chunk_len = len(sample)\n",
    "    input_data = stringToTensor(sample).unsqueeze(0)\n",
    "    output = evaluate(rnn, input_data, seq_len=sample_chunk_len, batch_size=1)\n",
    "    guess_i = categoryFromOutput(output)\n",
    "    output_rows.append((str(i+1), all_categories[guess_i]))\n",
    "\n",
    "submission_file_path = 'kaggle_rnn_submission.txt'\n",
    "with open(submission_file_path, 'w') as f:\n",
    "    output_rows = [('id', 'category')] + output_rows\n",
    "    writer = csv.writer(f)\n",
    "    writer.writerows(output_rows)\n"
   ]
  }
 ],
 "metadata": {
  "accelerator": "GPU",
  "colab": {
   "machine_shape": "hm",
   "name": "MP4_P2_classification.ipynb",
   "provenance": []
  },
  "kernelspec": {
   "display_name": "Python 3",
   "language": "python",
   "name": "python3"
  },
  "language_info": {
   "codemirror_mode": {
    "name": "ipython",
    "version": 3
   },
   "file_extension": ".py",
   "mimetype": "text/x-python",
   "name": "python",
   "nbconvert_exporter": "python",
   "pygments_lexer": "ipython3",
   "version": "3.8.5"
  }
 },
 "nbformat": 4,
 "nbformat_minor": 1
}
