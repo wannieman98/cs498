{
  "nbformat": 4,
  "nbformat_minor": 0,
  "metadata": {
    "accelerator": "GPU",
    "colab": {
      "name": "pytorch_tutorial.ipynb",
      "provenance": [],
      "collapsed_sections": [],
      "toc_visible": true
    },
    "kernelspec": {
      "display_name": "Python 3",
      "language": "python",
      "name": "python3"
    },
    "language_info": {
      "codemirror_mode": {
        "name": "ipython",
        "version": 3
      },
      "file_extension": ".py",
      "mimetype": "text/x-python",
      "name": "python",
      "nbconvert_exporter": "python",
      "pygments_lexer": "ipython3",
      "version": "3.8.5"
    },
    "widgets": {
      "application/vnd.jupyter.widget-state+json": {
        "92a4b04329514592bd48cba4d3cac0b8": {
          "model_module": "@jupyter-widgets/controls",
          "model_name": "HBoxModel",
          "state": {
            "_view_name": "HBoxView",
            "_dom_classes": [],
            "_model_name": "HBoxModel",
            "_view_module": "@jupyter-widgets/controls",
            "_model_module_version": "1.5.0",
            "_view_count": null,
            "_view_module_version": "1.5.0",
            "box_style": "",
            "layout": "IPY_MODEL_a6243f76602140d881d140458dc13b8c",
            "_model_module": "@jupyter-widgets/controls",
            "children": [
              "IPY_MODEL_bf22cceeed5d4e8e83989b7e864d91c9",
              "IPY_MODEL_67af15ba8818401589b51788f23d9caf"
            ]
          }
        },
        "a6243f76602140d881d140458dc13b8c": {
          "model_module": "@jupyter-widgets/base",
          "model_name": "LayoutModel",
          "state": {
            "_view_name": "LayoutView",
            "grid_template_rows": null,
            "right": null,
            "justify_content": null,
            "_view_module": "@jupyter-widgets/base",
            "overflow": null,
            "_model_module_version": "1.2.0",
            "_view_count": null,
            "flex_flow": null,
            "width": null,
            "min_width": null,
            "border": null,
            "align_items": null,
            "bottom": null,
            "_model_module": "@jupyter-widgets/base",
            "top": null,
            "grid_column": null,
            "overflow_y": null,
            "overflow_x": null,
            "grid_auto_flow": null,
            "grid_area": null,
            "grid_template_columns": null,
            "flex": null,
            "_model_name": "LayoutModel",
            "justify_items": null,
            "grid_row": null,
            "max_height": null,
            "align_content": null,
            "visibility": null,
            "align_self": null,
            "height": null,
            "min_height": null,
            "padding": null,
            "grid_auto_rows": null,
            "grid_gap": null,
            "max_width": null,
            "order": null,
            "_view_module_version": "1.2.0",
            "grid_template_areas": null,
            "object_position": null,
            "object_fit": null,
            "grid_auto_columns": null,
            "margin": null,
            "display": null,
            "left": null
          }
        },
        "bf22cceeed5d4e8e83989b7e864d91c9": {
          "model_module": "@jupyter-widgets/controls",
          "model_name": "FloatProgressModel",
          "state": {
            "_view_name": "ProgressView",
            "style": "IPY_MODEL_7c3b9d96d0cb4168aa36d3e9b83975e6",
            "_dom_classes": [],
            "description": "",
            "_model_name": "FloatProgressModel",
            "bar_style": "success",
            "max": 170498071,
            "_view_module": "@jupyter-widgets/controls",
            "_model_module_version": "1.5.0",
            "value": 170498071,
            "_view_count": null,
            "_view_module_version": "1.5.0",
            "orientation": "horizontal",
            "min": 0,
            "description_tooltip": null,
            "_model_module": "@jupyter-widgets/controls",
            "layout": "IPY_MODEL_eafd4d882aff4619b59114904db44fff"
          }
        },
        "67af15ba8818401589b51788f23d9caf": {
          "model_module": "@jupyter-widgets/controls",
          "model_name": "HTMLModel",
          "state": {
            "_view_name": "HTMLView",
            "style": "IPY_MODEL_2e479d016a18464382f3c407ad3694a8",
            "_dom_classes": [],
            "description": "",
            "_model_name": "HTMLModel",
            "placeholder": "​",
            "_view_module": "@jupyter-widgets/controls",
            "_model_module_version": "1.5.0",
            "value": " 170499072/? [03:11&lt;00:00, 890161.29it/s]",
            "_view_count": null,
            "_view_module_version": "1.5.0",
            "description_tooltip": null,
            "_model_module": "@jupyter-widgets/controls",
            "layout": "IPY_MODEL_207c5bae53c74aa0b0e194833cee5faf"
          }
        },
        "7c3b9d96d0cb4168aa36d3e9b83975e6": {
          "model_module": "@jupyter-widgets/controls",
          "model_name": "ProgressStyleModel",
          "state": {
            "_view_name": "StyleView",
            "_model_name": "ProgressStyleModel",
            "description_width": "initial",
            "_view_module": "@jupyter-widgets/base",
            "_model_module_version": "1.5.0",
            "_view_count": null,
            "_view_module_version": "1.2.0",
            "bar_color": null,
            "_model_module": "@jupyter-widgets/controls"
          }
        },
        "eafd4d882aff4619b59114904db44fff": {
          "model_module": "@jupyter-widgets/base",
          "model_name": "LayoutModel",
          "state": {
            "_view_name": "LayoutView",
            "grid_template_rows": null,
            "right": null,
            "justify_content": null,
            "_view_module": "@jupyter-widgets/base",
            "overflow": null,
            "_model_module_version": "1.2.0",
            "_view_count": null,
            "flex_flow": null,
            "width": null,
            "min_width": null,
            "border": null,
            "align_items": null,
            "bottom": null,
            "_model_module": "@jupyter-widgets/base",
            "top": null,
            "grid_column": null,
            "overflow_y": null,
            "overflow_x": null,
            "grid_auto_flow": null,
            "grid_area": null,
            "grid_template_columns": null,
            "flex": null,
            "_model_name": "LayoutModel",
            "justify_items": null,
            "grid_row": null,
            "max_height": null,
            "align_content": null,
            "visibility": null,
            "align_self": null,
            "height": null,
            "min_height": null,
            "padding": null,
            "grid_auto_rows": null,
            "grid_gap": null,
            "max_width": null,
            "order": null,
            "_view_module_version": "1.2.0",
            "grid_template_areas": null,
            "object_position": null,
            "object_fit": null,
            "grid_auto_columns": null,
            "margin": null,
            "display": null,
            "left": null
          }
        },
        "2e479d016a18464382f3c407ad3694a8": {
          "model_module": "@jupyter-widgets/controls",
          "model_name": "DescriptionStyleModel",
          "state": {
            "_view_name": "StyleView",
            "_model_name": "DescriptionStyleModel",
            "description_width": "",
            "_view_module": "@jupyter-widgets/base",
            "_model_module_version": "1.5.0",
            "_view_count": null,
            "_view_module_version": "1.2.0",
            "_model_module": "@jupyter-widgets/controls"
          }
        },
        "207c5bae53c74aa0b0e194833cee5faf": {
          "model_module": "@jupyter-widgets/base",
          "model_name": "LayoutModel",
          "state": {
            "_view_name": "LayoutView",
            "grid_template_rows": null,
            "right": null,
            "justify_content": null,
            "_view_module": "@jupyter-widgets/base",
            "overflow": null,
            "_model_module_version": "1.2.0",
            "_view_count": null,
            "flex_flow": null,
            "width": null,
            "min_width": null,
            "border": null,
            "align_items": null,
            "bottom": null,
            "_model_module": "@jupyter-widgets/base",
            "top": null,
            "grid_column": null,
            "overflow_y": null,
            "overflow_x": null,
            "grid_auto_flow": null,
            "grid_area": null,
            "grid_template_columns": null,
            "flex": null,
            "_model_name": "LayoutModel",
            "justify_items": null,
            "grid_row": null,
            "max_height": null,
            "align_content": null,
            "visibility": null,
            "align_self": null,
            "height": null,
            "min_height": null,
            "padding": null,
            "grid_auto_rows": null,
            "grid_gap": null,
            "max_width": null,
            "order": null,
            "_view_module_version": "1.2.0",
            "grid_template_areas": null,
            "object_position": null,
            "object_fit": null,
            "grid_auto_columns": null,
            "margin": null,
            "display": null,
            "left": null
          }
        }
      }
    }
  },
  "cells": [
    {
      "cell_type": "markdown",
      "metadata": {
        "id": "uwxBJg3054tF"
      },
      "source": [
        "# PyTorch Tutorial\n",
        "\n",
        "This tutorial is mostly based on:\n",
        "\n",
        "* https://pytorch.org/tutorials/beginner/deep_learning_60min_blitz.html\n",
        "* https://pytorch.org/tutorials/beginner/pytorch_with_examples.html"
      ]
    },
    {
      "cell_type": "code",
      "metadata": {
        "id": "F4GoE0Hq54tG",
        "colab": {
          "base_uri": "https://localhost:8080/"
        },
        "outputId": "65431183-2bbf-44ef-e15b-15001b8fe87d"
      },
      "source": [
        "import numpy as np\n",
        "import torch\n",
        "\n",
        "print(torch.__version__)"
      ],
      "execution_count": 1,
      "outputs": [
        {
          "output_type": "stream",
          "text": [
            "1.8.0+cu101\n"
          ],
          "name": "stdout"
        }
      ]
    },
    {
      "cell_type": "markdown",
      "metadata": {
        "id": "y5AXjLCz54tJ"
      },
      "source": [
        "## PyTorch Tensors\n",
        "\n",
        "PyTorch tensors are just like NumPy arrays, and they include many of the same operations you are used to from NumPy."
      ]
    },
    {
      "cell_type": "markdown",
      "metadata": {
        "id": "6KSKVAxA54tJ"
      },
      "source": [
        "Construct a tensor of size $5 \\times 3$ with random values:\n",
        "\n"
      ]
    },
    {
      "cell_type": "code",
      "metadata": {
        "id": "2EKqc9Rq54tK",
        "colab": {
          "base_uri": "https://localhost:8080/"
        },
        "outputId": "dd3016c0-f654-46db-dcf9-9b088aa9970a"
      },
      "source": [
        "x = torch.rand(5, 3)\n",
        "print(x)"
      ],
      "execution_count": 2,
      "outputs": [
        {
          "output_type": "stream",
          "text": [
            "tensor([[0.7674, 0.6322, 0.1703],\n",
            "        [0.1968, 0.0367, 0.6604],\n",
            "        [0.0825, 0.8605, 0.2414],\n",
            "        [0.8747, 0.4077, 0.7188],\n",
            "        [0.7293, 0.6047, 0.3224]])\n"
          ],
          "name": "stdout"
        }
      ]
    },
    {
      "cell_type": "markdown",
      "metadata": {
        "id": "bZ9KbuE554tM"
      },
      "source": [
        "Construct a matrix filled zeros and of dtype long:\n",
        "\n"
      ]
    },
    {
      "cell_type": "code",
      "metadata": {
        "id": "Oa8OceHw54tN",
        "colab": {
          "base_uri": "https://localhost:8080/"
        },
        "outputId": "b2dc1917-c58c-4028-9a38-148c4ed48741"
      },
      "source": [
        "x = torch.zeros(5, 3, dtype=torch.long)\n",
        "print(x)"
      ],
      "execution_count": 3,
      "outputs": [
        {
          "output_type": "stream",
          "text": [
            "tensor([[0, 0, 0],\n",
            "        [0, 0, 0],\n",
            "        [0, 0, 0],\n",
            "        [0, 0, 0],\n",
            "        [0, 0, 0]])\n"
          ],
          "name": "stdout"
        }
      ]
    },
    {
      "cell_type": "markdown",
      "metadata": {
        "id": "OiiA773h54tP"
      },
      "source": [
        "Make a tensor from a list of values:"
      ]
    },
    {
      "cell_type": "code",
      "metadata": {
        "id": "g5fCpQsy54tP",
        "colab": {
          "base_uri": "https://localhost:8080/"
        },
        "outputId": "f9c92505-0c63-430a-9cbb-6f61f794299c"
      },
      "source": [
        "x  = torch.tensor([1, 2, 3], dtype=float)\n",
        "print(x)"
      ],
      "execution_count": 4,
      "outputs": [
        {
          "output_type": "stream",
          "text": [
            "tensor([1., 2., 3.], dtype=torch.float64)\n"
          ],
          "name": "stdout"
        }
      ]
    },
    {
      "cell_type": "markdown",
      "metadata": {
        "id": "jNNJG12d54tS"
      },
      "source": [
        "Create a tensor based on another tensor (inherit size and dtype, unless otherwise specified):"
      ]
    },
    {
      "cell_type": "code",
      "metadata": {
        "id": "At5-rz6O54tS",
        "colab": {
          "base_uri": "https://localhost:8080/"
        },
        "outputId": "3ee573c6-47c6-4409-cf64-e8d6f3d7e519"
      },
      "source": [
        "x = x.new_ones(5, 3)  # new_* methods take in sizes\n",
        "print(x)\n",
        "\n",
        "x = torch.randn_like(x, dtype=torch.float)  # override dtype!\n",
        "print(x)                                    # result has the same size"
      ],
      "execution_count": 5,
      "outputs": [
        {
          "output_type": "stream",
          "text": [
            "tensor([[1., 1., 1.],\n",
            "        [1., 1., 1.],\n",
            "        [1., 1., 1.],\n",
            "        [1., 1., 1.],\n",
            "        [1., 1., 1.]], dtype=torch.float64)\n",
            "tensor([[ 1.2750, -0.1749,  1.0355],\n",
            "        [ 0.9275,  1.5333,  1.6990],\n",
            "        [ 0.0684,  0.9485, -0.3962],\n",
            "        [ 0.3294, -1.3861, -0.1161],\n",
            "        [ 1.5978, -1.2060, -0.3885]])\n"
          ],
          "name": "stdout"
        }
      ]
    },
    {
      "cell_type": "markdown",
      "metadata": {
        "id": "HnbhwMxT54tW"
      },
      "source": [
        "Get the size object of a tensor, an object which supports tuple operations:"
      ]
    },
    {
      "cell_type": "code",
      "metadata": {
        "id": "0WN8pUnL54tW",
        "colab": {
          "base_uri": "https://localhost:8080/"
        },
        "outputId": "864d8ece-b73c-4b41-f98c-c33b2fc5d328"
      },
      "source": [
        "print(x.size())"
      ],
      "execution_count": 6,
      "outputs": [
        {
          "output_type": "stream",
          "text": [
            "torch.Size([5, 3])\n"
          ],
          "name": "stdout"
        }
      ]
    },
    {
      "cell_type": "markdown",
      "metadata": {
        "id": "-Yl7e9aq54tY"
      },
      "source": [
        "Operations on tensors use similar syntax to NumPy:"
      ]
    },
    {
      "cell_type": "code",
      "metadata": {
        "id": "88YT3jWB54tZ",
        "colab": {
          "base_uri": "https://localhost:8080/"
        },
        "outputId": "ad0e93ce-dd93-4ab8-9a99-5a09e18d6cca"
      },
      "source": [
        "y = torch.rand(5, 3)\n",
        "print(x + y)\n",
        "print(torch.add(x, y))"
      ],
      "execution_count": 7,
      "outputs": [
        {
          "output_type": "stream",
          "text": [
            "tensor([[ 1.5891,  0.4724,  1.4541],\n",
            "        [ 1.0518,  2.3003,  1.9358],\n",
            "        [ 0.3627,  1.2266,  0.1345],\n",
            "        [ 0.4130, -0.6329,  0.3872],\n",
            "        [ 2.0997, -0.9923, -0.2058]])\n",
            "tensor([[ 1.5891,  0.4724,  1.4541],\n",
            "        [ 1.0518,  2.3003,  1.9358],\n",
            "        [ 0.3627,  1.2266,  0.1345],\n",
            "        [ 0.4130, -0.6329,  0.3872],\n",
            "        [ 2.0997, -0.9923, -0.2058]])\n"
          ],
          "name": "stdout"
        }
      ]
    },
    {
      "cell_type": "markdown",
      "metadata": {
        "id": "TA5GHiwL54tb"
      },
      "source": [
        "PyTorch also supports in-place operations (method names end in '_'):"
      ]
    },
    {
      "cell_type": "code",
      "metadata": {
        "id": "KIVoVr4t54tb",
        "colab": {
          "base_uri": "https://localhost:8080/"
        },
        "outputId": "c451a52e-6ce5-401f-cd88-52dd11b277e1"
      },
      "source": [
        "y.add_(x)\n",
        "print(y)"
      ],
      "execution_count": 8,
      "outputs": [
        {
          "output_type": "stream",
          "text": [
            "tensor([[ 1.5891,  0.4724,  1.4541],\n",
            "        [ 1.0518,  2.3003,  1.9358],\n",
            "        [ 0.3627,  1.2266,  0.1345],\n",
            "        [ 0.4130, -0.6329,  0.3872],\n",
            "        [ 2.0997, -0.9923, -0.2058]])\n"
          ],
          "name": "stdout"
        }
      ]
    },
    {
      "cell_type": "markdown",
      "metadata": {
        "id": "AxMWCAkB54te"
      },
      "source": [
        "Indexing works as you would expect:"
      ]
    },
    {
      "cell_type": "code",
      "metadata": {
        "id": "m39EwjI354te",
        "colab": {
          "base_uri": "https://localhost:8080/"
        },
        "outputId": "3b46ad1e-bd67-4b0c-8fe0-40c2182d305f"
      },
      "source": [
        "x = torch.rand(5, 3)\n",
        "print(x)\n",
        "print(x[1:4, :])"
      ],
      "execution_count": 9,
      "outputs": [
        {
          "output_type": "stream",
          "text": [
            "tensor([[0.4225, 0.8406, 0.2633],\n",
            "        [0.6983, 0.9618, 0.3712],\n",
            "        [0.4970, 0.0836, 0.2561],\n",
            "        [0.5321, 0.2809, 0.1832],\n",
            "        [0.3871, 0.2681, 0.8664]])\n",
            "tensor([[0.6983, 0.9618, 0.3712],\n",
            "        [0.4970, 0.0836, 0.2561],\n",
            "        [0.5321, 0.2809, 0.1832]])\n"
          ],
          "name": "stdout"
        }
      ]
    },
    {
      "cell_type": "markdown",
      "metadata": {
        "id": "UBccd2N7Mp4_"
      },
      "source": [
        "Tensor data types and casting:"
      ]
    },
    {
      "cell_type": "code",
      "metadata": {
        "id": "v52347k654th",
        "colab": {
          "base_uri": "https://localhost:8080/"
        },
        "outputId": "0d2a94f8-cafd-47b7-fa3f-c5d3d2952274"
      },
      "source": [
        "a = torch.ones(3, 3, dtype=torch.double)\n",
        "print(a)\n",
        "b = a.long()\n",
        "print(b.type())\n",
        "c = a.int()\n",
        "print(c)"
      ],
      "execution_count": 10,
      "outputs": [
        {
          "output_type": "stream",
          "text": [
            "tensor([[1., 1., 1.],\n",
            "        [1., 1., 1.],\n",
            "        [1., 1., 1.]], dtype=torch.float64)\n",
            "torch.LongTensor\n",
            "tensor([[1, 1, 1],\n",
            "        [1, 1, 1],\n",
            "        [1, 1, 1]], dtype=torch.int32)\n"
          ],
          "name": "stdout"
        }
      ]
    },
    {
      "cell_type": "markdown",
      "metadata": {
        "id": "XVKY6CVuMx_Z"
      },
      "source": [
        "Integer division works just like Python and NumPy (only in newer versions of PyTorch)"
      ]
    },
    {
      "cell_type": "code",
      "metadata": {
        "id": "GHlXZ6vkL6se",
        "colab": {
          "base_uri": "https://localhost:8080/"
        },
        "outputId": "2e8f9bfb-c65b-499c-c105-584854f25522"
      },
      "source": [
        "print(3 / 2)\n",
        "print(np.array(3) / np.array(2))\n",
        "print(torch.tensor(3) / torch.tensor(2))"
      ],
      "execution_count": 11,
      "outputs": [
        {
          "output_type": "stream",
          "text": [
            "1.5\n",
            "1.5\n",
            "tensor(1.5000)\n"
          ],
          "name": "stdout"
        }
      ]
    },
    {
      "cell_type": "markdown",
      "metadata": {
        "id": "K9jROw58rvVZ"
      },
      "source": [
        "Documentation on various dtypes: https://pytorch.org/docs/stable/tensors.html"
      ]
    },
    {
      "cell_type": "markdown",
      "metadata": {
        "id": "strIC2QY54tk"
      },
      "source": [
        "### More useful PyTorch Tensor operations\n",
        "\n",
        "To see the complete API check here: https://pytorch.org/docs/stable/tensors.html"
      ]
    },
    {
      "cell_type": "markdown",
      "metadata": {
        "id": "_tWE7sT0uvue"
      },
      "source": [
        "`.view()` can be used to resize/reshape tensors:\n"
      ]
    },
    {
      "cell_type": "code",
      "metadata": {
        "id": "lXwIvBQS54tk",
        "colab": {
          "base_uri": "https://localhost:8080/"
        },
        "outputId": "92e75f24-884c-452c-b4aa-2fe6b41a5030"
      },
      "source": [
        "x = torch.randn(4, 4)\n",
        "y = x.view(16)\n",
        "z = x.view(-1, 8)  # the size -1 is inferred from other dimensions\n",
        "print(x.size(), y.size(), z.size())"
      ],
      "execution_count": 12,
      "outputs": [
        {
          "output_type": "stream",
          "text": [
            "torch.Size([4, 4]) torch.Size([16]) torch.Size([2, 8])\n"
          ],
          "name": "stdout"
        }
      ]
    },
    {
      "cell_type": "markdown",
      "metadata": {
        "id": "PYTgOyt5u1ph"
      },
      "source": [
        "If you have a one element tensor, use `.item()` to get the value as a Python number:\n"
      ]
    },
    {
      "cell_type": "code",
      "metadata": {
        "id": "e-rltnVuu69S",
        "colab": {
          "base_uri": "https://localhost:8080/"
        },
        "outputId": "92e2f715-8682-498e-8b9a-dd177c87a08e"
      },
      "source": [
        "x = x.sum()\n",
        "print(x)\n",
        "print(x.item())"
      ],
      "execution_count": 13,
      "outputs": [
        {
          "output_type": "stream",
          "text": [
            "tensor(3.2722)\n",
            "3.2721924781799316\n"
          ],
          "name": "stdout"
        }
      ]
    },
    {
      "cell_type": "markdown",
      "metadata": {
        "id": "Y023N4uw54tm"
      },
      "source": [
        "### Converting between NumPy arrays and PyTorch Tensors\n",
        "\n",
        "Important: PyTorch Tensors and NumPy arrays will share the same underlying memory locations. If you change values for one, the values for the other will be changed too."
      ]
    },
    {
      "cell_type": "markdown",
      "metadata": {
        "id": "m3VKumG9ump-"
      },
      "source": [
        "Convert PyTorch Tensor to NumPy array:"
      ]
    },
    {
      "cell_type": "code",
      "metadata": {
        "id": "3xa88YHL54tn",
        "outputId": "06e3886c-b02f-4a29-c84c-4101a2bcf83f"
      },
      "source": [
        "a = torch.ones(5)\n",
        "print(a)\n",
        "b = a.numpy()\n",
        "print(b)\n",
        "\n",
        "a.add_(1)\n",
        "print(a)\n",
        "print(b)"
      ],
      "execution_count": null,
      "outputs": [
        {
          "output_type": "stream",
          "text": [
            "tensor([1., 1., 1., 1., 1.])\n",
            "[1. 1. 1. 1. 1.]\n",
            "tensor([2., 2., 2., 2., 2.])\n",
            "[2. 2. 2. 2. 2.]\n"
          ],
          "name": "stdout"
        }
      ]
    },
    {
      "cell_type": "markdown",
      "metadata": {
        "id": "hMIhgJgivCsm"
      },
      "source": [
        "Convert NumPy array to PyTorch Tensor:"
      ]
    },
    {
      "cell_type": "code",
      "metadata": {
        "id": "55AFarlO54tp",
        "outputId": "c1af75f0-67e4-47ee-fc50-246bfcece64f"
      },
      "source": [
        "a = np.ones(5)\n",
        "b = torch.from_numpy(a)\n",
        "np.add(a, 1, out=a)\n",
        "print(a)\n",
        "print(b)"
      ],
      "execution_count": null,
      "outputs": [
        {
          "output_type": "stream",
          "text": [
            "[2. 2. 2. 2. 2.]\n",
            "tensor([2., 2., 2., 2., 2.], dtype=torch.float64)\n"
          ],
          "name": "stdout"
        }
      ]
    },
    {
      "cell_type": "markdown",
      "metadata": {
        "id": "Gg90vky-54tr"
      },
      "source": [
        "## CUDA Tensors (On GPU)\n",
        "\n",
        "PyTorch tensors have the added benefit that they can easily be placed on a GPU to speed up computations."
      ]
    },
    {
      "cell_type": "markdown",
      "metadata": {
        "id": "l_Lfnh2wPeQz"
      },
      "source": [
        "Query information about the GPU (if CUDA is available):"
      ]
    },
    {
      "cell_type": "code",
      "metadata": {
        "id": "0i9K6ucxPLZr",
        "colab": {
          "base_uri": "https://localhost:8080/"
        },
        "outputId": "ed3a96c9-6786-4f0b-ad86-926c9aef0ed5"
      },
      "source": [
        "if torch.cuda.is_available():\n",
        "    !nvidia-smi"
      ],
      "execution_count": 14,
      "outputs": [
        {
          "output_type": "stream",
          "text": [
            "Wed Mar 17 03:56:54 2021       \n",
            "+-----------------------------------------------------------------------------+\n",
            "| NVIDIA-SMI 460.56       Driver Version: 460.32.03    CUDA Version: 11.2     |\n",
            "|-------------------------------+----------------------+----------------------+\n",
            "| GPU  Name        Persistence-M| Bus-Id        Disp.A | Volatile Uncorr. ECC |\n",
            "| Fan  Temp  Perf  Pwr:Usage/Cap|         Memory-Usage | GPU-Util  Compute M. |\n",
            "|                               |                      |               MIG M. |\n",
            "|===============================+======================+======================|\n",
            "|   0  Tesla T4            Off  | 00000000:00:04.0 Off |                    0 |\n",
            "| N/A   53C    P8    12W /  70W |      3MiB / 15109MiB |      0%      Default |\n",
            "|                               |                      |                  N/A |\n",
            "+-------------------------------+----------------------+----------------------+\n",
            "                                                                               \n",
            "+-----------------------------------------------------------------------------+\n",
            "| Processes:                                                                  |\n",
            "|  GPU   GI   CI        PID   Type   Process name                  GPU Memory |\n",
            "|        ID   ID                                                   Usage      |\n",
            "|=============================================================================|\n",
            "|  No running processes found                                                 |\n",
            "+-----------------------------------------------------------------------------+\n"
          ],
          "name": "stdout"
        }
      ]
    },
    {
      "cell_type": "markdown",
      "metadata": {
        "id": "GiEkS3ZjP5aH"
      },
      "source": [
        "You can use `torch.device` objects to move tensors to and from the GPU:"
      ]
    },
    {
      "cell_type": "code",
      "metadata": {
        "id": "d2ue8FEc54tr",
        "colab": {
          "base_uri": "https://localhost:8080/"
        },
        "outputId": "4b73afd4-44f4-440f-910b-524b7c16dbad"
      },
      "source": [
        "if torch.cuda.is_available():\n",
        "    device = torch.device(\"cuda\")          # a CUDA device object\n",
        "    y = torch.ones_like(x, device=device)  # directly create a tensor on GPU\n",
        "    x = x.to(device)                       # or just use strings `.to(\"cuda\")`\n",
        "    z = x + y\n",
        "    print(z)\n",
        "    print(z.to(\"cpu\", torch.double))       # `.to` can also change dtype"
      ],
      "execution_count": 15,
      "outputs": [
        {
          "output_type": "stream",
          "text": [
            "tensor(4.2722, device='cuda:0')\n",
            "tensor(4.2722, dtype=torch.float64)\n"
          ],
          "name": "stdout"
        }
      ]
    },
    {
      "cell_type": "markdown",
      "metadata": {
        "id": "fXF6Ykbr54tu"
      },
      "source": [
        "\n",
        "## Autograd: Automatic Differentiation\n",
        "\n",
        "From: https://pytorch.org/tutorials/beginner/blitz/autograd_tutorial.html\n",
        "\n",
        "Now that you have learned how to use PyTorch Tensors you will learn how we can use PyTorch for automatic differentiation.\n",
        "\n",
        "The `autograd` package in PyTorch provides automatic differentiation for all operations on Tensors. It is a define-by-run framework, which means that your backprop is defined by how your code is run, and that every single iteration can be different.\n",
        "\n",
        "To allow PyTorch to keep track of operations for automatic differentiation, we need to set `requires_grad` as `True` for a Tensor. Autograd will then start to track all operations on the Tensor. When you finish your computation you can call `.backward()` and have all the gradients computed automatically. The gradient for this tensor will be accumulated into the `.grad` attribute.\n",
        "\n",
        "To stop a tensor from tracking history, you can call `.detach()` to detach\n",
        "it from the computation history, and to prevent future computation from being\n",
        "tracked.\n",
        "\n",
        "To prevent tracking history (and using memory), you can also wrap the code block in `with torch.no_grad():`. This can be particularly helpful when evaluating a model because the model may have trainable parameters with `requires_grad=True`, but for which we don't need the gradients.\n",
        "\n",
        "There’s one more class which is very important for autograd implementation - a `Function`.\n",
        "\n",
        "`Tensor` and `Function` are interconnected and build up an acyclic\n",
        "graph that encodes a complete history of computation. Each tensor has\n",
        "a `.grad_fn` attribute that references a `Function` that has created\n",
        "the `Tensor` (except for Tensors created by the user - their `grad_fn` is `None`).\n",
        "\n",
        "If you want to compute the derivatives, you can call `.backward()` on a `Tensor`. If `Tensor` is a scalar (i.e. it holds a one element data), you don’t need to specify any arguments to `backward()`, however if it has more elements, you need to specify a `gradient` argument that is a tensor of matching shape."
      ]
    },
    {
      "cell_type": "markdown",
      "metadata": {
        "id": "Z_7reitR54tv"
      },
      "source": [
        "Create a tensor and set `requires_grad=True` to track computation with it:"
      ]
    },
    {
      "cell_type": "code",
      "metadata": {
        "id": "BiUIjct_54tw",
        "colab": {
          "base_uri": "https://localhost:8080/"
        },
        "outputId": "922f600b-ba8d-433d-a751-7e6f4dc87e78"
      },
      "source": [
        "x = torch.ones(2, 2, requires_grad=True)\n",
        "print(x)"
      ],
      "execution_count": 16,
      "outputs": [
        {
          "output_type": "stream",
          "text": [
            "tensor([[1., 1.],\n",
            "        [1., 1.]], requires_grad=True)\n"
          ],
          "name": "stdout"
        }
      ]
    },
    {
      "cell_type": "markdown",
      "metadata": {
        "id": "ceISCrjA54ty"
      },
      "source": [
        "Perform a tensor operation:"
      ]
    },
    {
      "cell_type": "code",
      "metadata": {
        "id": "jol5D-i754tz",
        "colab": {
          "base_uri": "https://localhost:8080/"
        },
        "outputId": "17d3f5a8-0993-48e0-f727-9769bc8c1253"
      },
      "source": [
        "y = x + 2\n",
        "print(y)"
      ],
      "execution_count": 17,
      "outputs": [
        {
          "output_type": "stream",
          "text": [
            "tensor([[3., 3.],\n",
            "        [3., 3.]], grad_fn=<AddBackward0>)\n"
          ],
          "name": "stdout"
        }
      ]
    },
    {
      "cell_type": "markdown",
      "metadata": {
        "id": "ELfAiQbe54t1"
      },
      "source": [
        "`y` was created as a result of an operation, so it has a `grad_fn`:"
      ]
    },
    {
      "cell_type": "code",
      "metadata": {
        "id": "N1-bfsGg54t1",
        "colab": {
          "base_uri": "https://localhost:8080/"
        },
        "outputId": "410a29c7-ec23-40ce-c041-1ff43b448c50"
      },
      "source": [
        "print(y.grad_fn)"
      ],
      "execution_count": 18,
      "outputs": [
        {
          "output_type": "stream",
          "text": [
            "<AddBackward0 object at 0x7f61343ff150>\n"
          ],
          "name": "stdout"
        }
      ]
    },
    {
      "cell_type": "markdown",
      "metadata": {
        "id": "wKGpA_tx54t3"
      },
      "source": [
        "Do more operations on `y`:"
      ]
    },
    {
      "cell_type": "code",
      "metadata": {
        "id": "ZEr955CF54t3",
        "colab": {
          "base_uri": "https://localhost:8080/"
        },
        "outputId": "8fe4f05b-cc6d-4323-8523-65e8e4644bb2"
      },
      "source": [
        "z = y * y * 3\n",
        "print(z)\n",
        "out = z.mean()\n",
        "print(out)"
      ],
      "execution_count": 19,
      "outputs": [
        {
          "output_type": "stream",
          "text": [
            "tensor([[27., 27.],\n",
            "        [27., 27.]], grad_fn=<MulBackward0>)\n",
            "tensor(27., grad_fn=<MeanBackward0>)\n"
          ],
          "name": "stdout"
        }
      ]
    },
    {
      "cell_type": "markdown",
      "metadata": {
        "id": "_W_IdTf054t5"
      },
      "source": [
        "`.requires_grad_()` changes an existing Tensor's `requires_grad` flag in-place. The input flag defaults to `False` if not given:\n",
        "\n",
        "\n"
      ]
    },
    {
      "cell_type": "code",
      "metadata": {
        "id": "Mqhs7laq54t5",
        "colab": {
          "base_uri": "https://localhost:8080/"
        },
        "outputId": "f84b2a41-3fb5-4087-a57c-52078d7e3134"
      },
      "source": [
        "a = torch.randn(2, 2)\n",
        "a = ((a * 3) / (a - 1))\n",
        "print(a.requires_grad)\n",
        "a.requires_grad_(True)\n",
        "print(a.requires_grad)\n",
        "b = (a * a).sum()\n",
        "print(b.grad_fn)"
      ],
      "execution_count": 20,
      "outputs": [
        {
          "output_type": "stream",
          "text": [
            "False\n",
            "True\n",
            "<SumBackward0 object at 0x7f61343ffe50>\n"
          ],
          "name": "stdout"
        }
      ]
    },
    {
      "cell_type": "markdown",
      "metadata": {
        "id": "nmHvopdf54t7"
      },
      "source": [
        "### Gradients\n",
        "\n",
        "Let's backprop now. Because `out` contains a single scalar, `out.backward()` is equivalent to `out.backward(torch.tensor(1))`:\n",
        "\n"
      ]
    },
    {
      "cell_type": "code",
      "metadata": {
        "id": "AAHwiVuB54t8"
      },
      "source": [
        "out.backward()"
      ],
      "execution_count": 21,
      "outputs": []
    },
    {
      "cell_type": "markdown",
      "metadata": {
        "id": "0-PJNi8j54t-"
      },
      "source": [
        "Print gradients $\\frac{d(\\texttt{out})}{d\\texttt{x}}$:"
      ]
    },
    {
      "cell_type": "code",
      "metadata": {
        "id": "ZMFshmPS54t-",
        "colab": {
          "base_uri": "https://localhost:8080/"
        },
        "outputId": "0d380fb9-d538-4683-d609-8c67c657646d"
      },
      "source": [
        "print(x.grad)"
      ],
      "execution_count": 22,
      "outputs": [
        {
          "output_type": "stream",
          "text": [
            "tensor([[4.5000, 4.5000],\n",
            "        [4.5000, 4.5000]])\n"
          ],
          "name": "stdout"
        }
      ]
    },
    {
      "cell_type": "markdown",
      "metadata": {
        "id": "ISxLOt0d54uB"
      },
      "source": [
        "You should get a matrix of `4.5`. Let's call the `out` *Tensor* \"$o$\". We find that $o = \\frac{1}{4}\\sum_i z_i$, $z_i = 3(x_i+2)^2$ and $z_i\\bigr\\rvert_{x_i=1} = 27$. Therefore, $\\frac{\\partial o}{\\partial x_i} = \\frac{3}{2}(x_i+2)$, hence $\\frac{\\partial o}{\\partial x_i}\\bigr\\rvert_{x_i=1} = \\frac{9}{2} = 4.5$."
      ]
    },
    {
      "cell_type": "markdown",
      "metadata": {
        "id": "xOnU_3Q_54uB"
      },
      "source": [
        "You can do many crazy things with autograd!\n",
        "\n"
      ]
    },
    {
      "cell_type": "code",
      "metadata": {
        "id": "u7Vy1rJr54uB",
        "colab": {
          "base_uri": "https://localhost:8080/"
        },
        "outputId": "b2a90207-7b64-48cd-c172-313b71aa17ae"
      },
      "source": [
        "x = torch.randn(3, requires_grad=True)\n",
        "\n",
        "y = x * 2\n",
        "while y.data.norm() < 1000:\n",
        "    y = y * 2\n",
        "\n",
        "print(y)"
      ],
      "execution_count": 23,
      "outputs": [
        {
          "output_type": "stream",
          "text": [
            "tensor([-150.4538,  844.4864, -833.4083], grad_fn=<MulBackward0>)\n"
          ],
          "name": "stdout"
        }
      ]
    },
    {
      "cell_type": "code",
      "metadata": {
        "id": "-wN5uMku54uE",
        "colab": {
          "base_uri": "https://localhost:8080/"
        },
        "outputId": "68887480-a5bc-4cbe-d390-cc3fbf044fab"
      },
      "source": [
        "gradients = torch.tensor([0.1, 1.0, 0.0001], dtype=torch.float)\n",
        "y.backward(gradients)\n",
        "\n",
        "print(x.grad)"
      ],
      "execution_count": 24,
      "outputs": [
        {
          "output_type": "stream",
          "text": [
            "tensor([1.0240e+02, 1.0240e+03, 1.0240e-01])\n"
          ],
          "name": "stdout"
        }
      ]
    },
    {
      "cell_type": "markdown",
      "metadata": {
        "id": "O3WfxSbS54uF"
      },
      "source": [
        "You can also stop autograd from tracking history on Tensors with `.requires_grad=True` by wrapping the code block in `with torch.no_grad()`:"
      ]
    },
    {
      "cell_type": "code",
      "metadata": {
        "id": "FxbhHk8654uG",
        "colab": {
          "base_uri": "https://localhost:8080/"
        },
        "outputId": "5792ea08-4275-41f9-b4d7-7c3f9d01ca1a"
      },
      "source": [
        "print(x.requires_grad)\n",
        "print((x ** 2).requires_grad)\n",
        "\n",
        "with torch.no_grad():\n",
        "\tprint((x ** 2).requires_grad)"
      ],
      "execution_count": 25,
      "outputs": [
        {
          "output_type": "stream",
          "text": [
            "True\n",
            "True\n",
            "False\n"
          ],
          "name": "stdout"
        }
      ]
    },
    {
      "cell_type": "markdown",
      "metadata": {
        "id": "HtHPCO3R54uI"
      },
      "source": [
        "**Read Later:**\n",
        "\n",
        "Documentation of `torch.autograd` and `Function` is at\n",
        "http://pytorch.org/docs/autograd"
      ]
    },
    {
      "cell_type": "markdown",
      "metadata": {
        "id": "mDKBSQ9n54uJ"
      },
      "source": [
        "## Neural Networks\n",
        "\n",
        "The `torch.nn` package in PyTorch provides higher level building blocks for neural networks like fully connected or convolutional layers. The `nn` package makes use of the `autograd` functionality to define these model building blocks and differentiate them. This allows us to quickly and easily implement neural networks by putting together layers and using PyTorch to help us update learnable parameters with the gradient.\n",
        "\n",
        "An `nn.Module` contains layers, and a method `forward(input)` that\n",
        "returns the `output`.\n",
        "\n",
        "A typical training procedure for a neural network is as follows:\n",
        "\n",
        "- Define the neural network that has some learnable parameters (or\n",
        "  weights)\n",
        "- Iterate over a dataset of inputs\n",
        "- Process input through the network\n",
        "- Compute the loss (how far is the output from being correct)\n",
        "- Propagate gradients back into the network’s parameters\n",
        "- Update the weights of the network, typically using a simple update rule:\n",
        "  `weight = weight - learning_rate * gradient`"
      ]
    },
    {
      "cell_type": "markdown",
      "metadata": {
        "id": "szNq6Hk854uJ"
      },
      "source": [
        "### Define the network\n",
        "\n",
        "In the cell below we define a simple convolutional neural network. Notice that we use the `nn.Conv2d` and `nn.Linear` Modules as building blocks for the network.\n",
        "\n",
        "There are plenty of other types of layers and tools available in the [torch.nn](https://pytorch.org/docs/stable/nn.html) package such as pooling layers, dropout, and batchnorm.\n",
        "\n",
        "Conveniently, PyTorch is completely open source so you can check out exactly how each of these Modules are implemented:\n",
        "\n",
        "* https://github.com/pytorch/pytorch/blob/master/torch/nn/modules/linear.py\n",
        "* https://github.com/pytorch/pytorch/blob/master/torch/nn/modules/conv.py\n",
        "\n",
        "**Important:** Whenever you extend the `nn.Module` class (e.g. with the `Net` class below) you will need to call the superclass constructor or an error will be thrown. In this example below this line is: `super().__init__()` "
      ]
    },
    {
      "cell_type": "code",
      "metadata": {
        "id": "A6MyjNHm54uK",
        "colab": {
          "base_uri": "https://localhost:8080/"
        },
        "outputId": "8a67e8f0-40ad-435b-99b7-30aa61f4c5cd"
      },
      "source": [
        "import torch\n",
        "import torch.nn as nn\n",
        "import torch.nn.functional as F\n",
        "\n",
        "\n",
        "class Net(nn.Module):\n",
        "\n",
        "    def __init__(self):\n",
        "        super().__init__()\n",
        "        # 1 input image channel, 6 output channels, 5x5 convolution kernel\n",
        "        self.conv1 = nn.Conv2d(1, 6, 5)\n",
        "        self.conv2 = nn.Conv2d(6, 16, 5)\n",
        "        # Affine operation: y = Wx + b\n",
        "        self.fc1 = nn.Linear(16 * 5 * 5, 120)\n",
        "        self.fc2 = nn.Linear(120, 84)\n",
        "        self.fc3 = nn.Linear(84, 10)\n",
        "\n",
        "    def forward(self, x):\n",
        "        # Max pooling over a (2, 2) window\n",
        "        x = F.max_pool2d(F.relu(self.conv1(x)), 2)\n",
        "        x = F.max_pool2d(F.relu(self.conv2(x)), 2)\n",
        "        x = x.flatten(start_dim=1)\n",
        "        x = F.relu(self.fc1(x))\n",
        "        x = F.relu(self.fc2(x))\n",
        "        x = self.fc3(x)\n",
        "        return x\n",
        "\n",
        "\n",
        "net = Net()\n",
        "print(net)"
      ],
      "execution_count": 26,
      "outputs": [
        {
          "output_type": "stream",
          "text": [
            "Net(\n",
            "  (conv1): Conv2d(1, 6, kernel_size=(5, 5), stride=(1, 1))\n",
            "  (conv2): Conv2d(6, 16, kernel_size=(5, 5), stride=(1, 1))\n",
            "  (fc1): Linear(in_features=400, out_features=120, bias=True)\n",
            "  (fc2): Linear(in_features=120, out_features=84, bias=True)\n",
            "  (fc3): Linear(in_features=84, out_features=10, bias=True)\n",
            ")\n"
          ],
          "name": "stdout"
        }
      ]
    },
    {
      "cell_type": "markdown",
      "metadata": {
        "id": "A8_soKaq54uM"
      },
      "source": [
        "You just have to define the ``forward`` function, and the ``backward``\n",
        "function (where gradients are computed) is automatically defined for you\n",
        "using ``autograd``.\n",
        "You can use any of the Tensor operations in the ``forward`` function.\n",
        "\n",
        "The learnable parameters of a model are returned by ``net.parameters()``\n",
        "\n"
      ]
    },
    {
      "cell_type": "code",
      "metadata": {
        "id": "kNW8772A54uN",
        "colab": {
          "base_uri": "https://localhost:8080/"
        },
        "outputId": "2b68fa0e-fed4-4169-d6b1-64f5eea4e6ee"
      },
      "source": [
        "params = list(net.parameters())\n",
        "print(len(params))\n",
        "print(params[0].size())  # conv1's .weight"
      ],
      "execution_count": 27,
      "outputs": [
        {
          "output_type": "stream",
          "text": [
            "10\n",
            "torch.Size([6, 1, 5, 5])\n"
          ],
          "name": "stdout"
        }
      ]
    },
    {
      "cell_type": "markdown",
      "metadata": {
        "id": "BuMk3eX654uP"
      },
      "source": [
        "Continuing, let's try a random 32x32 input"
      ]
    },
    {
      "cell_type": "code",
      "metadata": {
        "id": "3VGmILUs54uP",
        "colab": {
          "base_uri": "https://localhost:8080/"
        },
        "outputId": "61f029cc-2f20-4764-ec61-d07b887bce91"
      },
      "source": [
        "input = torch.randn(1, 1, 32, 32)\n",
        "out = net(input)\n",
        "print(out)"
      ],
      "execution_count": 31,
      "outputs": [
        {
          "output_type": "stream",
          "text": [
            "tensor([[-0.1460, -0.0178,  0.0734,  0.0610,  0.0717,  0.0864,  0.1025,  0.0304,\n",
            "         -0.1860, -0.1507]], grad_fn=<AddmmBackward>)\n"
          ],
          "name": "stdout"
        }
      ]
    },
    {
      "cell_type": "markdown",
      "metadata": {
        "id": "-C9Gy0Sy54uR"
      },
      "source": [
        "Zero the gradient buffers of all parameters and backprops with random\n",
        "gradients:\n",
        "\n"
      ]
    },
    {
      "cell_type": "code",
      "metadata": {
        "id": "jUb7RxZm54uR"
      },
      "source": [
        "net.zero_grad()\n",
        "out.backward(torch.randn(1, 10))"
      ],
      "execution_count": 32,
      "outputs": []
    },
    {
      "cell_type": "markdown",
      "metadata": {
        "id": "yaONPht_54uT"
      },
      "source": [
        "**Note:**\n",
        "\n",
        "`torch.nn` only supports mini-batches. The entire `torch.nn` package only supports inputs that are a mini-batch of samples, and not a single sample.\n",
        "\n",
        "For example, `nn.Conv2d` will take in a 4D Tensor of `nSamples x nChannels x Height x Width`.\n",
        "\n",
        "If you have a single sample, just use `input.unsqueeze(0)` to add a fake batch dimension."
      ]
    },
    {
      "cell_type": "markdown",
      "metadata": {
        "id": "oLLYpQ7O54uT"
      },
      "source": [
        "Before proceeding further, let's recap all the classes you’ve seen so far.\n",
        "\n",
        "**Recap:**\n",
        "- `torch.Tensor` - A *multi-dimensional array* with support for autograd operations like `backward()`. Also *holds the gradient* w.r.t. the tensor.\n",
        "- `nn.Module` - Neural network module. *Convenient way of encapsulating parameters*, with helpers for moving them to GPU, exporting, loading, etc.\n",
        "- `nn.Parameter` - A kind of Tensor, that is *automatically registered as a parameter when assigned as an attribute to a* `Module`.\n",
        "- `autograd.Function` - Implements *forward and backward definitions of an autograd operation*. Every `Tensor` operation, creates at least a single `Function` node, that connects to functions that created a `Tensor` and *encodes its history*.\n",
        "\n",
        "**At this point, we covered:**\n",
        "- Defining a neural network\n",
        "- Processing inputs and calling backward\n",
        "\n",
        "**Still Left:**\n",
        "- Computing the loss\n",
        "- Updating the weights of the network"
      ]
    },
    {
      "cell_type": "markdown",
      "metadata": {
        "id": "omNVq_XZ2KV5"
      },
      "source": [
        "### Loss Function\n",
        "\n",
        "A loss function takes the (output, target) pair of inputs, and computes a\n",
        "value that estimates how far away the output is from the target.\n",
        "\n",
        "There are several different [loss functions](https://pytorch.org/docs/stable/nn.html#loss-functions) under the `nn` package. A simple loss is `nn.MSELoss`, which computes the mean-squared error between the input and the target.\n",
        "\n",
        "For example:"
      ]
    },
    {
      "cell_type": "code",
      "metadata": {
        "id": "uMUJ2zAO54uU",
        "colab": {
          "base_uri": "https://localhost:8080/"
        },
        "outputId": "d897eb5c-1331-46cb-e811-2026f2277a9c"
      },
      "source": [
        "output = net(input)\n",
        "target = torch.randn(10)  # a dummy target, for example\n",
        "target = target.view(1, -1)  # make it the same shape as output\n",
        "criterion = nn.MSELoss()\n",
        "\n",
        "loss = criterion(output, target)\n",
        "print(loss)"
      ],
      "execution_count": 33,
      "outputs": [
        {
          "output_type": "stream",
          "text": [
            "tensor(0.4173, grad_fn=<MseLossBackward>)\n"
          ],
          "name": "stdout"
        }
      ]
    },
    {
      "cell_type": "markdown",
      "metadata": {
        "id": "85d4XN3W54uW"
      },
      "source": [
        "Now, if you follow `loss` in the backward direction, using its `.grad_fn` attribute, you will see a graph of computations that looks like this:\n",
        "\n",
        "    input -> conv2d -> relu -> maxpool2d -> conv2d -> relu -> maxpool2d\n",
        "          -> view -> linear -> relu -> linear -> relu -> linear\n",
        "          -> MSELoss\n",
        "          -> loss\n",
        "\n",
        "So, when we call `loss.backward()`, the whole graph is differentiated w.r.t. the loss, and all Tensors in the graph that have `requires_grad=True` will have their `.grad` Tensor accumulated with the gradient.\n",
        "\n",
        "For illustration, let us follow a few steps backward:"
      ]
    },
    {
      "cell_type": "code",
      "metadata": {
        "id": "am1pApy254uW",
        "colab": {
          "base_uri": "https://localhost:8080/"
        },
        "outputId": "888161cc-a21c-4886-8561-8b5c8ff02e35"
      },
      "source": [
        "print(loss.grad_fn)  # MSELoss\n",
        "print(loss.grad_fn.next_functions[0][0])  # Linear\n",
        "print(loss.grad_fn.next_functions[0][0].next_functions[0][0])  # ReLU"
      ],
      "execution_count": 34,
      "outputs": [
        {
          "output_type": "stream",
          "text": [
            "<MseLossBackward object at 0x7f6134455610>\n",
            "<AddmmBackward object at 0x7f61853ee490>\n",
            "<AccumulateGrad object at 0x7f6134455610>\n"
          ],
          "name": "stdout"
        }
      ]
    },
    {
      "cell_type": "markdown",
      "metadata": {
        "id": "CRqVnKtx54uY"
      },
      "source": [
        "### Backprop\n",
        "\n",
        "To backpropagate the error all we have to do is call `loss.backward()`. You need to clear the existing gradients though, otherwise the gradients will be accumulated to existing gradients.\n",
        "\n",
        "Now we'll call `loss.backward()`, and have a look at conv1's bias\n",
        "gradients before and after the backward step."
      ]
    },
    {
      "cell_type": "code",
      "metadata": {
        "id": "7u45jgvE54uZ",
        "colab": {
          "base_uri": "https://localhost:8080/"
        },
        "outputId": "33015e22-72e3-4406-e50f-29904fadb1ff"
      },
      "source": [
        "net.zero_grad()  # zeroes the gradient buffers of all parameters\n",
        "\n",
        "print('conv1.bias.grad before backward')\n",
        "print(net.conv1.bias.grad)\n",
        "\n",
        "loss.backward()\n",
        "\n",
        "print('conv1.bias.grad after backward')\n",
        "print(net.conv1.bias.grad)"
      ],
      "execution_count": 35,
      "outputs": [
        {
          "output_type": "stream",
          "text": [
            "conv1.bias.grad before backward\n",
            "tensor([0., 0., 0., 0., 0., 0.])\n",
            "conv1.bias.grad after backward\n",
            "tensor([-0.0110,  0.0088,  0.0010, -0.0031,  0.0063,  0.0102])\n"
          ],
          "name": "stdout"
        }
      ]
    },
    {
      "cell_type": "markdown",
      "metadata": {
        "id": "zzHCWS8554ub"
      },
      "source": [
        "Now, we have seen how to use loss functions.\n",
        "\n",
        "**The only thing left to learn is:**\n",
        "\n",
        "- Updating the weights of the network"
      ]
    },
    {
      "cell_type": "markdown",
      "metadata": {
        "id": "HxIYATs33dW4"
      },
      "source": [
        "### Update the weights\n",
        "\n",
        "The simplest update rule used in practice is the Stochastic Gradient\n",
        "Descent (SGD):\n",
        "\n",
        "     weight = weight - learning_rate * gradient\n",
        "\n",
        "We can implement this using simple python code:\n",
        "\n",
        "```python\n",
        "learning_rate = 0.01\n",
        "for f in net.parameters():\n",
        "    f.data.sub_(f.grad.data * learning_rate)\n",
        "```\n",
        "\n",
        "However, as you use neural networks, you'll want to use various different\n",
        "update rules such as SGD, Nesterov-SGD, Adam, RMSProp, etc.\n",
        "To enable this, PyTorch has a small package: `torch.optim` that\n",
        "implements all these methods. Using it is very simple:"
      ]
    },
    {
      "cell_type": "code",
      "metadata": {
        "id": "Jy4gmWx054ub",
        "colab": {
          "base_uri": "https://localhost:8080/"
        },
        "outputId": "fa19f608-9fb0-402a-a8c9-dd115deb1ba7"
      },
      "source": [
        "import torch.optim as optim\n",
        "\n",
        "# Create your optimizer\n",
        "optimizer = optim.SGD(net.parameters(), lr=0.01)\n",
        "\n",
        "# In your training loop:\n",
        "optimizer.zero_grad()             # zero the gradient buffers\n",
        "output = net(input)               # compute the forward pass\n",
        "loss = criterion(output, target)  # compute the loss\n",
        "loss.backward()                   # compute the gradients\n",
        "optimizer.step()                  # update the parameters\n",
        "\n",
        "print(loss)"
      ],
      "execution_count": 36,
      "outputs": [
        {
          "output_type": "stream",
          "text": [
            "tensor(0.4173, grad_fn=<MseLossBackward>)\n"
          ],
          "name": "stdout"
        }
      ]
    },
    {
      "cell_type": "markdown",
      "metadata": {
        "id": "Jpw3IUEi54uc"
      },
      "source": [
        "**Important:** Note how gradient buffers had to be manually set to zero using `optimizer.zero_grad()`. This is because gradients are accumulated, so if you don't zero gradients before each `backward()` call, you will begin accumulating gradients from previous forward/backward passes."
      ]
    },
    {
      "cell_type": "markdown",
      "metadata": {
        "id": "8-IGO5uO54ud"
      },
      "source": [
        "#### Note on eval and train modes\n",
        "\n",
        "**Important**: If you use layers in your network like `torch.nn.Dropout` or `torch.nn.BatchNorm2d` which have different behavior during training and evaluation, you will need to make sure the modules in your network are appropriately set. PyTorch makes this easy with `eval` and `train` methods for any network extending `nn.Module`. Before beginning training you will call `net.train()` to set all modules in the network to train mode, and equivalently before evaluating you should call `net.eval()`."
      ]
    },
    {
      "cell_type": "markdown",
      "metadata": {
        "id": "qptw28n21n2K"
      },
      "source": [
        "## Training a Classifier\n",
        "\n",
        "Now that you have seen the basics of how to define neural networks, compute losses, and make training updates, you will see how a simple classifier is trained in PyTorch on CIFAR-10."
      ]
    },
    {
      "cell_type": "markdown",
      "metadata": {
        "id": "V-jXBv_c15mP"
      },
      "source": [
        "### What about data?\n",
        "\n",
        "Generally, when you have to deal with image, text, audio, or video data,\n",
        "you can use standard python packages that load data into a numpy array.\n",
        "Then you can convert this array into a `torch.*Tensor`.\n",
        "\n",
        "-  For images, packages such as Pillow, OpenCV are useful\n",
        "-  For audio, packages such as scipy and librosa\n",
        "-  For text, either raw Python or Cython based loading, or NLTK and\n",
        "   SpaCy are useful\n",
        "\n",
        "Specifically for vision, we have created a package called\n",
        "`torchvision`, that has data loaders for common datasets such as\n",
        "Imagenet, CIFAR10, MNIST, etc., models for common architectures, and data transformers for images.\n",
        "\n",
        "This provides a huge convenience and avoids writing boilerplate code.\n",
        "\n",
        "For this tutorial, we will use the CIFAR10 dataset.\n",
        "It has the classes: 'airplane', 'automobile', 'bird', 'cat', 'deer',\n",
        "'dog', 'frog', 'horse', 'ship', 'truck'. The images in CIFAR-10 are of\n",
        "size $3 \\times 32 \\times 32$, i.e. 3-channel color images of $32 \\times 32$ pixels in size."
      ]
    },
    {
      "cell_type": "markdown",
      "metadata": {
        "id": "AiDBy41M1_0j"
      },
      "source": [
        "### Training an image classifier\n",
        "\n",
        "We will do the following steps in order:\n",
        "\n",
        "1. Load and normalizing the CIFAR10 training and test datasets using ``torchvision``\n",
        "2. Define a Convolution Neural Network\n",
        "3. Define a loss function\n",
        "4. Train the network on the training data\n",
        "5. Test the network on the test data"
      ]
    },
    {
      "cell_type": "markdown",
      "metadata": {
        "id": "8KbELnF454uk"
      },
      "source": [
        "### 1) Loading and normalizing CIFAR10\n",
        "\n",
        "Using `torchvision`, it’s extremely easy to load CIFAR10.\n",
        "\n"
      ]
    },
    {
      "cell_type": "code",
      "metadata": {
        "id": "0uqKo7VI54ul"
      },
      "source": [
        "import torch\n",
        "import torchvision\n",
        "import torchvision.transforms as transforms"
      ],
      "execution_count": 37,
      "outputs": []
    },
    {
      "cell_type": "markdown",
      "metadata": {
        "id": "YLCMgb2Y54uo"
      },
      "source": [
        "The output of torchvision datasets are `PIL` images of range [0, 1].\n",
        "We transform them to Tensors of normalized range [-1, 1] using the `transforms.ToTensor` and `transforms.Normalize` functions. \n",
        "\n",
        "The [transforms package](https://pytorch.org/docs/stable/torchvision/transforms.html) has other functions that you might use for **data augmentation**. For example, `torchvision.transforms.RandomResizedCrop` and `torchvision.transforms.RandomHorizontalFlip`."
      ]
    },
    {
      "cell_type": "code",
      "metadata": {
        "id": "SgoDH0Yh54uo",
        "colab": {
          "base_uri": "https://localhost:8080/",
          "height": 117,
          "referenced_widgets": [
            "92a4b04329514592bd48cba4d3cac0b8",
            "a6243f76602140d881d140458dc13b8c",
            "bf22cceeed5d4e8e83989b7e864d91c9",
            "67af15ba8818401589b51788f23d9caf",
            "7c3b9d96d0cb4168aa36d3e9b83975e6",
            "eafd4d882aff4619b59114904db44fff",
            "2e479d016a18464382f3c407ad3694a8",
            "207c5bae53c74aa0b0e194833cee5faf"
          ]
        },
        "outputId": "85d106f8-d8ae-4dee-ae51-5a6ee9d34b43"
      },
      "source": [
        "# Transforms\n",
        "train_transform = transforms.Compose([\n",
        "    transforms.RandomHorizontalFlip(),\n",
        "    transforms.ToTensor(),\n",
        "    transforms.Normalize((0.5, 0.5, 0.5), (0.5, 0.5, 0.5)),\n",
        "])\n",
        "\n",
        "test_transform = transforms.Compose([\n",
        "    transforms.ToTensor(),\n",
        "    transforms.Normalize((0.5, 0.5, 0.5), (0.5, 0.5, 0.5)),\n",
        "])\n",
        "\n",
        "# Datasets\n",
        "trainset = torchvision.datasets.CIFAR10(\n",
        "    root='./data', train=True, download=True, transform=train_transform)\n",
        "testset = torchvision.datasets.CIFAR10(\n",
        "    root='./data', train=False, download=True, transform=test_transform)\n",
        "\n",
        "# Data loaders\n",
        "trainloader = torch.utils.data.DataLoader(\n",
        "    trainset, batch_size=4, shuffle=True, num_workers=2)\n",
        "testloader = torch.utils.data.DataLoader(\n",
        "    testset, batch_size=4, shuffle=False, num_workers=2)\n",
        "\n",
        "classes = ('plane', 'car', 'bird', 'cat', 'deer', \n",
        "           'dog', 'frog', 'horse', 'ship', 'truck')"
      ],
      "execution_count": 38,
      "outputs": [
        {
          "output_type": "stream",
          "text": [
            "Downloading https://www.cs.toronto.edu/~kriz/cifar-10-python.tar.gz to ./data/cifar-10-python.tar.gz\n"
          ],
          "name": "stdout"
        },
        {
          "output_type": "display_data",
          "data": {
            "application/vnd.jupyter.widget-view+json": {
              "model_id": "92a4b04329514592bd48cba4d3cac0b8",
              "version_minor": 0,
              "version_major": 2
            },
            "text/plain": [
              "HBox(children=(FloatProgress(value=0.0, max=170498071.0), HTML(value='')))"
            ]
          },
          "metadata": {
            "tags": []
          }
        },
        {
          "output_type": "stream",
          "text": [
            "\n",
            "Extracting ./data/cifar-10-python.tar.gz to ./data\n",
            "Files already downloaded and verified\n"
          ],
          "name": "stdout"
        }
      ]
    },
    {
      "cell_type": "markdown",
      "metadata": {
        "id": "qGfPvUSa54uq"
      },
      "source": [
        "Let us show some of the training images, for fun.\n",
        "\n"
      ]
    },
    {
      "cell_type": "code",
      "metadata": {
        "id": "wc0QqWeK54uq",
        "colab": {
          "base_uri": "https://localhost:8080/",
          "height": 135
        },
        "outputId": "444d9bd6-d2b9-48d2-bae6-156870f7e1c4"
      },
      "source": [
        "import matplotlib.pyplot as plt\n",
        "import numpy as np\n",
        "\n",
        "\n",
        "def imshow(img):\n",
        "    \"\"\"Function to display an image.\"\"\"\n",
        "    img = img / 2 + 0.5  # unnormalize\n",
        "    npimg = img.numpy()\n",
        "    plt.imshow(np.transpose(npimg, (1, 2, 0)))\n",
        "    plt.axis('off')\n",
        "\n",
        "\n",
        "# Get some random training images\n",
        "dataiter = iter(trainloader)\n",
        "images, labels = dataiter.next()\n",
        "\n",
        "# Show images\n",
        "imshow(torchvision.utils.make_grid(images))\n",
        "# Print labels\n",
        "print('      '.join('%5s' % classes[labels[j]] for j in range(4)))"
      ],
      "execution_count": 39,
      "outputs": [
        {
          "output_type": "stream",
          "text": [
            "  cat        car       deer       ship\n"
          ],
          "name": "stdout"
        },
        {
          "output_type": "display_data",
          "data": {
            "image/png": "[encoded data removed]",
            "text/plain": [
              "<Figure size 432x288 with 1 Axes>"
            ]
          },
          "metadata": {
            "tags": [],
            "needs_background": "light"
          }
        }
      ]
    },
    {
      "cell_type": "markdown",
      "metadata": {
        "id": "mFVH9GDs54ut"
      },
      "source": [
        "#### Training on GPU\n",
        "\n",
        "Just like how you transfer a Tensor on to the GPU, you transfer the neural\n",
        "net onto the GPU.\n",
        "\n",
        "Let's first define our device as the first visible cuda device if we have\n",
        "CUDA available:"
      ]
    },
    {
      "cell_type": "code",
      "metadata": {
        "id": "Tg4nH4kL54ut",
        "colab": {
          "base_uri": "https://localhost:8080/"
        },
        "outputId": "675cd5c3-0143-4d92-f3ce-e1928b78c2c7"
      },
      "source": [
        "device = torch.device(\"cuda\" if torch.cuda.is_available() else \"cpu\")\n",
        "\n",
        "# Assuming that we are on a CUDA machine, this should print a CUDA device:\n",
        "print(device)"
      ],
      "execution_count": 40,
      "outputs": [
        {
          "output_type": "stream",
          "text": [
            "cuda\n"
          ],
          "name": "stdout"
        }
      ]
    },
    {
      "cell_type": "markdown",
      "metadata": {
        "id": "XAi1IRlm54uv"
      },
      "source": [
        "If `device` is in fact set to a CUDA device, then these methods will recursively go over all modules and convert their parameters and buffers to CUDA tensors:\n",
        "\n",
        "```python\n",
        "net = net.to(device)\n",
        "```\n",
        "\n",
        "Remember that you will have to send the inputs and targets at every step\n",
        "to the GPU too:\n",
        "\n",
        "```python\n",
        "inputs, labels = inputs.to(device), labels.to(device)\n",
        "```\n",
        "\n",
        "Why don't I notice MASSIVE speedup compared to CPU? Because your network\n",
        "is *realllly* small.\n",
        "\n",
        "**Exercise:** Try increasing the width of your network (argument 2 of\n",
        "the first `nn.Conv2d`, and argument 1 of the second `nn.Conv2d` –\n",
        "they need to be the same number), see what kind of speedup you get."
      ]
    },
    {
      "cell_type": "markdown",
      "metadata": {
        "id": "3f3yqmzZ54uv"
      },
      "source": [
        "### 2) Define a Convolution Neural Network\n",
        "\n",
        "Copy the neural network from the Neural Networks section before and modify it to\n",
        "take 3-channel images (instead of 1-channel images as it was defined).\n",
        "\n"
      ]
    },
    {
      "cell_type": "code",
      "metadata": {
        "id": "QFxHduMg54uw"
      },
      "source": [
        "import torch.nn as nn\n",
        "import torch.nn.functional as F\n",
        "\n",
        "\n",
        "class Net(nn.Module):\n",
        "    def __init__(self):\n",
        "        super().__init__()\n",
        "        self.out_channels1 = 6\n",
        "        self.out_channels2 = 16\n",
        "        self.conv1 = nn.Conv2d(3, self.out_channels1, 5)\n",
        "        self.pool = nn.MaxPool2d(2, 2)\n",
        "        self.conv2 = nn.Conv2d(self.out_channels1, self.out_channels2, 5)\n",
        "        self.fc1 = nn.Linear(self.out_channels2 * 5 * 5, 120)\n",
        "        self.fc2 = nn.Linear(120, 84)\n",
        "        self.fc3 = nn.Linear(84, 10)\n",
        "\n",
        "    def forward(self, x):\n",
        "        x = self.pool(F.relu(self.conv1(x)))\n",
        "        x = self.pool(F.relu(self.conv2(x)))\n",
        "        x = x.flatten(start_dim=1)\n",
        "        x = F.relu(self.fc1(x))\n",
        "        x = F.relu(self.fc2(x))\n",
        "        x = self.fc3(x)\n",
        "        return x\n",
        "\n",
        "\n",
        "net = Net().to(device)"
      ],
      "execution_count": 41,
      "outputs": []
    },
    {
      "cell_type": "markdown",
      "metadata": {
        "id": "MNZpQALm54ux"
      },
      "source": [
        "### 3) Define a Loss function and optimizer\n",
        "\n",
        "Let's use a Classification Cross-Entropy loss and SGD with momentum.\n",
        "\n"
      ]
    },
    {
      "cell_type": "code",
      "metadata": {
        "id": "CxS9T6ly54uy"
      },
      "source": [
        "import torch.optim as optim\n",
        "\n",
        "criterion = nn.CrossEntropyLoss()\n",
        "# optimizer = optim.SGD(net.parameters(), lr=0.001, momentum=0.9)\n",
        "optimizer = optim.Adam(net.parameters(), lr=0.001)"
      ],
      "execution_count": 42,
      "outputs": []
    },
    {
      "cell_type": "markdown",
      "metadata": {
        "id": "yUwlfYEh54u0"
      },
      "source": [
        "### 4) Train the network\n",
        "\n",
        "\n",
        "This is when things start to get interesting.\n",
        "We simply have to loop over our data iterator, and feed the inputs to the\n",
        "network and optimize.\n",
        "\n"
      ]
    },
    {
      "cell_type": "code",
      "metadata": {
        "id": "dwXciSA454u0",
        "colab": {
          "base_uri": "https://localhost:8080/"
        },
        "outputId": "d21e27e9-a853-48e5-d579-70394d297969"
      },
      "source": [
        "import time\n",
        "\n",
        "\n",
        "net = net.train()\n",
        "\n",
        "# Loop over the dataset for multiple epochs\n",
        "for epoch in range(1, 3):\n",
        "    running_loss = 0.0\n",
        "    t_s = time.time()\n",
        "\n",
        "    # For each mini-batch...\n",
        "    for i, data in enumerate(trainloader, 1):\n",
        "        # Get the inputs\n",
        "        inputs, labels = data\n",
        "        inputs, labels = inputs.to(device), labels.to(device)\n",
        "\n",
        "        # Zero the parameter gradients\n",
        "        optimizer.zero_grad()\n",
        "\n",
        "        # Forward + backward + optimize\n",
        "        outputs = net(inputs)\n",
        "        loss = criterion(outputs, labels)\n",
        "        loss.backward()\n",
        "        optimizer.step()\n",
        "\n",
        "        # print statistics\n",
        "        running_loss += loss.item()\n",
        "        if i % 2000 == 0:  # print every 2000 mini-batches\n",
        "            print('[%d, %5d] loss: %.3f' %\n",
        "                  (epoch, i, running_loss / 2000))\n",
        "            running_loss = 0.0\n",
        "            print('iters time:', time.time() - t_s)\n",
        "            t_s = time.time()\n",
        "\n",
        "print('Finished Training')"
      ],
      "execution_count": 43,
      "outputs": [
        {
          "output_type": "stream",
          "text": [
            "[1,  2000] loss: 2.215\n",
            "iters time: 8.206301927566528\n",
            "[1,  4000] loss: 1.892\n",
            "iters time: 7.744486331939697\n",
            "[1,  6000] loss: 1.692\n",
            "iters time: 7.792188882827759\n",
            "[1,  8000] loss: 1.599\n",
            "iters time: 7.945308685302734\n",
            "[1, 10000] loss: 1.538\n",
            "iters time: 8.038212776184082\n",
            "[1, 12000] loss: 1.502\n",
            "iters time: 7.761331796646118\n",
            "[2,  2000] loss: 1.422\n",
            "iters time: 7.743934631347656\n",
            "[2,  4000] loss: 1.411\n",
            "iters time: 7.7834084033966064\n",
            "[2,  6000] loss: 1.386\n",
            "iters time: 7.975070238113403\n",
            "[2,  8000] loss: 1.348\n",
            "iters time: 7.816261291503906\n",
            "[2, 10000] loss: 1.322\n",
            "iters time: 7.850463390350342\n",
            "[2, 12000] loss: 1.347\n",
            "iters time: 7.8087756633758545\n",
            "Finished Training\n"
          ],
          "name": "stdout"
        }
      ]
    },
    {
      "cell_type": "markdown",
      "metadata": {
        "id": "rxqpJ27N_23W"
      },
      "source": [
        "Let’s quickly save our trained model:"
      ]
    },
    {
      "cell_type": "code",
      "metadata": {
        "id": "65bQ4MFR_y52"
      },
      "source": [
        "PATH = './cifar_net.pth'\n",
        "torch.save(net.state_dict(), PATH)"
      ],
      "execution_count": 44,
      "outputs": []
    },
    {
      "cell_type": "markdown",
      "metadata": {
        "id": "MdGUM74bAJn6"
      },
      "source": [
        "We can load back in a saved model with the following: (note: saving and re-loading the model wasn’t necessary here, we only did it to illustrate how to do so):"
      ]
    },
    {
      "cell_type": "code",
      "metadata": {
        "id": "QuoPRDvWAUYs",
        "colab": {
          "base_uri": "https://localhost:8080/"
        },
        "outputId": "07884795-9f86-4cde-8ab2-905c64e72374"
      },
      "source": [
        "net = Net().to(device)\n",
        "net.load_state_dict(torch.load(PATH))"
      ],
      "execution_count": 45,
      "outputs": [
        {
          "output_type": "execute_result",
          "data": {
            "text/plain": [
              "<All keys matched successfully>"
            ]
          },
          "metadata": {
            "tags": []
          },
          "execution_count": 45
        }
      ]
    },
    {
      "cell_type": "markdown",
      "metadata": {
        "id": "T0X8mDOw54u1"
      },
      "source": [
        "### 5) Test the network on the test data\n",
        "\n",
        "We have trained the network for 2 passes over the training dataset.\n",
        "But we need to check if the network has learned anything at all.\n",
        "\n",
        "We will check this by predicting the class label that the neural network\n",
        "outputs, and checking it against the ground-truth. If the prediction is\n",
        "correct, we add the sample to the list of correct predictions.\n",
        "\n",
        "Okay, first step. Let us display an image from the test set to get familiar."
      ]
    },
    {
      "cell_type": "code",
      "metadata": {
        "id": "AxuALLU054u2",
        "colab": {
          "base_uri": "https://localhost:8080/",
          "height": 152
        },
        "outputId": "d04587bf-723e-4f46-de99-fe077a586864"
      },
      "source": [
        "dataiter = iter(testloader)\n",
        "images, labels = dataiter.next()\n",
        "\n",
        "# print images\n",
        "imshow(torchvision.utils.make_grid(images))\n",
        "print('Ground truth:')\n",
        "print('      '.join('%5s' % classes[labels[j]] for j in range(4)))"
      ],
      "execution_count": 47,
      "outputs": [
        {
          "output_type": "stream",
          "text": [
            "Ground truth:\n",
            "  cat       ship       ship      plane\n"
          ],
          "name": "stdout"
        },
        {
          "output_type": "display_data",
          "data": {
            "image/png": "[encoded data removed]",
            "text/plain": [
              "<Figure size 432x288 with 1 Axes>"
            ]
          },
          "metadata": {
            "tags": [],
            "needs_background": "light"
          }
        }
      ]
    },
    {
      "cell_type": "markdown",
      "metadata": {
        "id": "17PzSHOh54u4"
      },
      "source": [
        "Okay, now let us see what the neural network thinks these examples above are:\n",
        "\n"
      ]
    },
    {
      "cell_type": "code",
      "metadata": {
        "id": "YUalV9gM54u4"
      },
      "source": [
        "net = net.eval()\n",
        "\n",
        "outputs = net(images.to(device))"
      ],
      "execution_count": 48,
      "outputs": []
    },
    {
      "cell_type": "markdown",
      "metadata": {
        "id": "sXLcTThZ54u6"
      },
      "source": [
        "The outputs are energies for the 10 classes.\n",
        "Higher the energy for a class, the more the network\n",
        "thinks that the image is of the particular class.\n",
        "So, let's get the index of the highest energy:\n",
        "\n"
      ]
    },
    {
      "cell_type": "code",
      "metadata": {
        "id": "BttfSl0_54u7",
        "colab": {
          "base_uri": "https://localhost:8080/",
          "height": 152
        },
        "outputId": "1017a7aa-43c6-435b-dec3-a9758806e647"
      },
      "source": [
        "_, predicted = torch.max(outputs, 1)\n",
        "\n",
        "imshow(torchvision.utils.make_grid(images))\n",
        "print('Predicted:')\n",
        "print('      '.join('%5s' % classes[predicted[j]] for j in range(4)))"
      ],
      "execution_count": 49,
      "outputs": [
        {
          "output_type": "stream",
          "text": [
            "Predicted:\n",
            "  cat       ship       ship       ship\n"
          ],
          "name": "stdout"
        },
        {
          "output_type": "display_data",
          "data": {
            "image/png": "[encoded data removed]",
            "text/plain": [
              "<Figure size 432x288 with 1 Axes>"
            ]
          },
          "metadata": {
            "tags": [],
            "needs_background": "light"
          }
        }
      ]
    },
    {
      "cell_type": "markdown",
      "metadata": {
        "id": "uQOFenEC54u-"
      },
      "source": [
        "The results seem pretty good.\n",
        "\n",
        "Let us look at how the network performs on the whole dataset.\n",
        "\n"
      ]
    },
    {
      "cell_type": "code",
      "metadata": {
        "id": "iKFpv3i354u-",
        "colab": {
          "base_uri": "https://localhost:8080/"
        },
        "outputId": "0d770b96-16ce-45cd-a9d3-505e48da1afb"
      },
      "source": [
        "correct = 0\n",
        "total = 0\n",
        "with torch.no_grad():\n",
        "    for data in testloader:\n",
        "        images, labels = data\n",
        "        images, labels = images.to(device), labels.to(device)\n",
        "        outputs = net(images)\n",
        "        _, predicted = torch.max(outputs.data, 1)\n",
        "        total += labels.size(0)\n",
        "        correct += (predicted == labels).sum().item()\n",
        "\n",
        "print('Accuracy of the network on the 10000 test images: %d%%' % (\n",
        "    100 * correct / total))"
      ],
      "execution_count": 50,
      "outputs": [
        {
          "output_type": "stream",
          "text": [
            "Accuracy of the network on the 10000 test images: 53%\n"
          ],
          "name": "stdout"
        }
      ]
    },
    {
      "cell_type": "markdown",
      "metadata": {
        "id": "BwJ2a57954vA"
      },
      "source": [
        "That looks waaay better than chance, which is 10% accuracy (randomly picking\n",
        "a class out of 10 classes).\n",
        "Seems like the network learned something.\n",
        "\n",
        "Hmmm, what are the classes that performed well, and the classes that did\n",
        "not perform well:"
      ]
    },
    {
      "cell_type": "code",
      "metadata": {
        "id": "6kRdd7As54vB",
        "colab": {
          "base_uri": "https://localhost:8080/"
        },
        "outputId": "3f1184a7-9363-425b-8d10-9380e679175c"
      },
      "source": [
        "class_correct = [0] * 10\n",
        "class_total = [0] * 10\n",
        "with torch.no_grad():\n",
        "    for data in testloader:\n",
        "        images, labels = data\n",
        "        images, labels = images.to(device), labels.to(device)\n",
        "        outputs = net(images)\n",
        "        _, predicted = torch.max(outputs, 1)\n",
        "        c = (predicted == labels).squeeze()\n",
        "        for i in range(4):\n",
        "            label = labels[i]\n",
        "            class_correct[label] += c[i].item()\n",
        "            class_total[label] += 1\n",
        "\n",
        "\n",
        "for i in range(10):\n",
        "    print('Accuracy of %5s: %2d%%' % (\n",
        "        classes[i], 100 * class_correct[i] / class_total[i]))"
      ],
      "execution_count": 51,
      "outputs": [
        {
          "output_type": "stream",
          "text": [
            "Accuracy of plane: 53%\n",
            "Accuracy of   car: 71%\n",
            "Accuracy of  bird: 45%\n",
            "Accuracy of   cat: 19%\n",
            "Accuracy of  deer: 29%\n",
            "Accuracy of   dog: 42%\n",
            "Accuracy of  frog: 83%\n",
            "Accuracy of horse: 59%\n",
            "Accuracy of  ship: 71%\n",
            "Accuracy of truck: 54%\n"
          ],
          "name": "stdout"
        }
      ]
    },
    {
      "cell_type": "markdown",
      "metadata": {
        "id": "S3V4E0pI54vE"
      },
      "source": [
        "### Other information\n",
        "\n",
        "How to write data loading code in PyTorch: https://pytorch.org/tutorials/beginner/data_loading_tutorial.html\n",
        "\n",
        "More details on saving and loading models: https://pytorch.org/tutorials/beginner/saving_loading_models.html"
      ]
    },
    {
      "cell_type": "markdown",
      "metadata": {
        "id": "HZhcGleTF88Z"
      },
      "source": [
        "## Transfer Learning\n",
        "\n",
        "Nowadays, CIFAR-10 is considered to be a small dataset (only 50K training images). Using transfer learning, we can use a model that is pre-trained on a much larger dataset like ImageNet (1.3M training images) and fine-tune it on our smaller dataset to get better performance.\n",
        "\n",
        "This portion of the tutorial will be more hands-on. It is intended to be done individually or in small groups either after class or in breakout rooms at the end of class. You will need to complete the following steps:\n",
        "\n",
        "1. Copy the code above from steps 1-5\n",
        "2. Replace the custom model we defined with a pre-trained model from `torchvision.models`\n",
        "3. Replace the last layer of the model with a linear layer that outputs 10 classes (CIFAR-10 has 10 classes, but ImageNet had 1,000 classes)\n",
        "4. Modify the transforms to ensure that the CIFAR-10 images are the dimensions expected by the models pre-trained on ImageNet ($224 \\times 224$) using `torchvision.transforms`\n",
        "5. Re-train the model on CIFAR-10\n",
        "\n",
        "See https://pytorch.org/tutorials/beginner/finetuning_torchvision_models_tutorial.html if you get stuck. Feel free to play around with other modifications, like SGD vs. Adam or fine-tuning vs. feature extraction. Good luck!"
      ]
    },
    {
      "cell_type": "code",
      "metadata": {
        "id": "K0tQXInLeasi"
      },
      "source": [
        "import torch\n",
        "import torchvision\n",
        "import torchvision.transforms as transforms\n",
        "import torchvision.models as models"
      ],
      "execution_count": 158,
      "outputs": []
    },
    {
      "cell_type": "code",
      "metadata": {
        "id": "GG5txwZ9fXcC"
      },
      "source": [
        "num_classes = 10\n",
        "batch_size = 4\n",
        "epochs = 5"
      ],
      "execution_count": 159,
      "outputs": []
    },
    {
      "cell_type": "code",
      "metadata": {
        "colab": {
          "base_uri": "https://localhost:8080/"
        },
        "id": "9y8M42Xee1Wx",
        "outputId": "e9e8970d-73b4-40f2-ad54-91170e92711f"
      },
      "source": [
        "# Transforms\n",
        "train_transform = transforms.Compose([\n",
        "    transforms.RandomResizedCrop(224),\n",
        "    transforms.RandomHorizontalFlip(),\n",
        "    transforms.ToTensor(),\n",
        "    transforms.Normalize([0.485, 0.456, 0.406], [0.229, 0.224, 0.225]),\n",
        "])\n",
        "\n",
        "test_transform = transforms.Compose([\n",
        "    transforms.RandomResizedCrop(224),\n",
        "    transforms.CenterCrop(224),\n",
        "    transforms.ToTensor(),\n",
        "    transforms.Normalize([0.485, 0.456, 0.406], [0.229, 0.224, 0.225]),\n",
        "])\n",
        "\n",
        "# Datasets\n",
        "trainset = torchvision.datasets.CIFAR10(\n",
        "    root='./data', train=True, download=True, transform=train_transform)\n",
        "testset = torchvision.datasets.CIFAR10(\n",
        "    root='./data', train=False, download=True, transform=test_transform)\n",
        "\n",
        "# Data loaders\n",
        "trainloader = torch.utils.data.DataLoader(\n",
        "    trainset, batch_size=batch_size, shuffle=True, num_workers=2)\n",
        "testloader = torch.utils.data.DataLoader(\n",
        "    testset, batch_size=batch_size, shuffle=False, num_workers=2)\n",
        "\n",
        "classes = ('plane', 'car', 'bird', 'cat', 'deer', \n",
        "           'dog', 'frog', 'horse', 'ship', 'truck')\n"
      ],
      "execution_count": 160,
      "outputs": [
        {
          "output_type": "stream",
          "text": [
            "Files already downloaded and verified\n",
            "Files already downloaded and verified\n"
          ],
          "name": "stdout"
        }
      ]
    },
    {
      "cell_type": "code",
      "metadata": {
        "colab": {
          "base_uri": "https://localhost:8080/",
          "height": 149
        },
        "id": "JS1fXcyle9Ri",
        "outputId": "b11caad6-11de-4466-f214-3bcd1d93ba63"
      },
      "source": [
        "import matplotlib.pyplot as plt\n",
        "import numpy as np\n",
        "\n",
        "\n",
        "def imshow(img):\n",
        "    \"\"\"Function to display an image.\"\"\"\n",
        "    img = img / 2 + 0.5  # unnormalize\n",
        "    npimg = img.numpy()\n",
        "    plt.imshow(np.transpose(npimg, (1, 2, 0)))\n",
        "    plt.axis('off')\n",
        "\n",
        "\n",
        "# Get some random training images\n",
        "dataiter = iter(trainloader)\n",
        "images, labels = dataiter.next()\n",
        "\n",
        "# Show images\n",
        "imshow(torchvision.utils.make_grid(images))\n",
        "# Print labels\n",
        "print('      '.join('%5s' % classes[labels[j]] for j in range(4)))"
      ],
      "execution_count": 161,
      "outputs": [
        {
          "output_type": "stream",
          "text": [
            "Clipping input data to the valid range for imshow with RGB data ([0..1] for floats or [0..255] for integers).\n"
          ],
          "name": "stderr"
        },
        {
          "output_type": "stream",
          "text": [
            " frog        car       ship        dog\n"
          ],
          "name": "stdout"
        },
        {
          "output_type": "display_data",
          "data": {
            "image/png": "[encoded data removed]",
            "text/plain": [
              "<Figure size 432x288 with 1 Axes>"
            ]
          },
          "metadata": {
            "tags": [],
            "needs_background": "light"
          }
        }
      ]
    },
    {
      "cell_type": "code",
      "metadata": {
        "colab": {
          "base_uri": "https://localhost:8080/"
        },
        "id": "0zSoIeXBfEKe",
        "outputId": "c83fac78-c76e-45a5-f27d-962da055bfa3"
      },
      "source": [
        "device = torch.device(\"cuda\" if torch.cuda.is_available() else \"cpu\")\n",
        "\n",
        "# Assuming that we are on a CUDA machine, this should print a CUDA device:\n",
        "print(device)"
      ],
      "execution_count": 162,
      "outputs": [
        {
          "output_type": "stream",
          "text": [
            "cuda\n"
          ],
          "name": "stdout"
        }
      ]
    },
    {
      "cell_type": "code",
      "metadata": {
        "id": "mxJT5iCRkDzn"
      },
      "source": [
        "alexnet = models.alexnet(pretrained=True)\n",
        "resnet = models.resnet152(pretrained=True)\n",
        "alexnet.classifier[6] = nn.Linear(in_features=4096, out_features=num_classes) \n",
        "resnet.fc = nn.Linear(in_features=2048, out_features=num_classes)"
      ],
      "execution_count": 163,
      "outputs": []
    },
    {
      "cell_type": "code",
      "metadata": {
        "id": "7witfqcJmY4U"
      },
      "source": [
        "import torch.optim as optim\n",
        "\n",
        "criterion = nn.CrossEntropyLoss()\n",
        "optimizer = optim.SGD(resnet.parameters(), lr=0.001, momentum=0.9)\n",
        "# optimizer = optim.Adam(net.parameters(), lr=0.001)"
      ],
      "execution_count": 174,
      "outputs": []
    },
    {
      "cell_type": "code",
      "metadata": {
        "colab": {
          "base_uri": "https://localhost:8080/"
        },
        "id": "hftdATnbj8Kk",
        "outputId": "4ccb60fb-8204-4004-e3c0-0e59e4d6ec0e"
      },
      "source": [
        "import time\n",
        "\n",
        "# alexnet = alexnet.train()\n",
        "# alexnet = alexnet.train()\n",
        "# alexnet = alexnet.to(device)\n",
        "resnet = resnet.train()\n",
        "resnet = resnet.to(device)\n",
        "since = time.time()\n",
        "# Loop over the dataset for multiple epochs\n",
        "for epoch in range(epochs):\n",
        "    running_loss = 0.0\n",
        "    t_s = time.time()\n",
        "\n",
        "    # For each mini-batch...\n",
        "    for i, data in enumerate(trainloader, 1):\n",
        "        # Get the inputs\n",
        "        inputs, labels = data\n",
        "        inputs, labels = inputs.to(device), labels.to(device)\n",
        "\n",
        "        # Zero the parameter gradients\n",
        "        optimizer.zero_grad()\n",
        "\n",
        "        # Forward + backward + optimize\n",
        "        outputs = resnet(inputs)\n",
        "        loss = criterion(outputs, labels)\n",
        "        loss.backward()\n",
        "        optimizer.step()\n",
        "\n",
        "        # print statistics\n",
        "        running_loss += loss.item()\n",
        "        if i % 2000 == 0:  # print every 2000 mini-batches\n",
        "            print('[%d, %5d] loss: %.3f' %\n",
        "                  (epoch, i, running_loss / 2000))\n",
        "            running_loss = 0.0\n",
        "            print('iters time:', time.time() - t_s)\n",
        "            t_s = time.time()\n",
        "time_elapsed = time.time() - since\n",
        "print('Training complete in {:.0f}m {:.0f}s'.format(time_elapsed // 60, time_elapsed % 60))\n",
        "print('Finished Training')"
      ],
      "execution_count": 175,
      "outputs": [
        {
          "output_type": "stream",
          "text": [
            "[0,  2000] loss: 1.702\n",
            "iters time: 269.7585415840149\n",
            "[0,  4000] loss: 1.348\n",
            "iters time: 268.2659225463867\n",
            "[0,  6000] loss: 1.187\n",
            "iters time: 269.0472984313965\n",
            "[0,  8000] loss: 1.081\n",
            "iters time: 268.92742347717285\n",
            "[0, 10000] loss: 0.991\n",
            "iters time: 268.58651328086853\n",
            "[0, 12000] loss: 0.927\n",
            "iters time: 268.6137652397156\n",
            "[1,  2000] loss: 0.836\n",
            "iters time: 268.3407838344574\n",
            "[1,  4000] loss: 0.842\n",
            "iters time: 268.43220019340515\n",
            "[1,  6000] loss: 0.794\n",
            "iters time: 268.29800271987915\n",
            "[1,  8000] loss: 0.781\n",
            "iters time: 268.4613559246063\n",
            "[1, 10000] loss: 0.768\n",
            "iters time: 268.56618547439575\n",
            "[1, 12000] loss: 0.746\n",
            "iters time: 268.1658937931061\n",
            "[2,  2000] loss: 0.712\n",
            "iters time: 268.6008634567261\n",
            "[2,  4000] loss: 0.685\n",
            "iters time: 268.32120180130005\n",
            "[2,  6000] loss: 0.704\n",
            "iters time: 268.16232442855835\n",
            "[2,  8000] loss: 0.667\n",
            "iters time: 268.2668936252594\n",
            "[2, 10000] loss: 0.641\n",
            "iters time: 268.25338315963745\n",
            "[2, 12000] loss: 0.673\n",
            "iters time: 268.21069836616516\n",
            "[3,  2000] loss: 0.615\n",
            "iters time: 268.47152280807495\n",
            "[3,  4000] loss: 0.634\n",
            "iters time: 268.29029536247253\n",
            "[3,  6000] loss: 0.631\n",
            "iters time: 268.35016894340515\n",
            "[3,  8000] loss: 0.617\n",
            "iters time: 268.3446297645569\n",
            "[3, 10000] loss: 0.611\n",
            "iters time: 268.39293575286865\n",
            "[3, 12000] loss: 0.599\n",
            "iters time: 268.30857968330383\n",
            "[4,  2000] loss: 0.578\n",
            "iters time: 268.1587300300598\n",
            "[4,  4000] loss: 0.603\n",
            "iters time: 268.2018837928772\n",
            "[4,  6000] loss: 0.594\n",
            "iters time: 268.85540652275085\n",
            "[4,  8000] loss: 0.568\n",
            "iters time: 268.72931122779846\n",
            "[4, 10000] loss: 0.565\n",
            "iters time: 268.0676941871643\n",
            "[4, 12000] loss: 0.552\n",
            "iters time: 267.43014454841614\n",
            "Training complete in 139m 49s\n",
            "Finished Training\n"
          ],
          "name": "stdout"
        }
      ]
    },
    {
      "cell_type": "code",
      "metadata": {
        "id": "w2E0r6RKmtSs"
      },
      "source": [
        "# PATH = './cifar_alexnet.pth'\n",
        "# torch.save(alexnet.state_dict(), PATH)\n",
        "PATH = './cifar_resnet.pth'\n",
        "torch.save(resnet.state_dict(), PATH)"
      ],
      "execution_count": 176,
      "outputs": []
    },
    {
      "cell_type": "code",
      "metadata": {
        "colab": {
          "base_uri": "https://localhost:8080/"
        },
        "id": "LCA85yVFmz-B",
        "outputId": "96ebd873-5f64-49c3-d17a-6462587e4457"
      },
      "source": [
        "# alexnet = alexnet.to(device)\n",
        "# alexnet.load_state_dict(torch.load(PATH))\n",
        "resnet = resnet.to(device)\n",
        "resnet.load_state_dict(torch.load(PATH))"
      ],
      "execution_count": 177,
      "outputs": [
        {
          "output_type": "execute_result",
          "data": {
            "text/plain": [
              "<All keys matched successfully>"
            ]
          },
          "metadata": {
            "tags": []
          },
          "execution_count": 177
        }
      ]
    },
    {
      "cell_type": "code",
      "metadata": {
        "colab": {
          "base_uri": "https://localhost:8080/",
          "height": 166
        },
        "id": "hMaRWIRzm9x7",
        "outputId": "13e32644-3b8a-4ca5-c590-a38d649831fb"
      },
      "source": [
        "dataiter = iter(testloader)\n",
        "images, labels = dataiter.next()\n",
        "\n",
        "# print images\n",
        "imshow(torchvision.utils.make_grid(images))\n",
        "print('Ground truth:')\n",
        "print('      '.join('%5s' % classes[labels[j]] for j in range(4)))"
      ],
      "execution_count": 178,
      "outputs": [
        {
          "output_type": "stream",
          "text": [
            "Clipping input data to the valid range for imshow with RGB data ([0..1] for floats or [0..255] for integers).\n"
          ],
          "name": "stderr"
        },
        {
          "output_type": "stream",
          "text": [
            "Ground truth:\n",
            "  cat       ship       ship      plane\n"
          ],
          "name": "stdout"
        },
        {
          "output_type": "display_data",
          "data": {
            "image/png": "[encoded data removed]",
            "text/plain": [
              "<Figure size 432x288 with 1 Axes>"
            ]
          },
          "metadata": {
            "tags": [],
            "needs_background": "light"
          }
        }
      ]
    },
    {
      "cell_type": "code",
      "metadata": {
        "id": "ZNq4TqZ2nP_Y"
      },
      "source": [
        "# alexnet = alexnet.eval()\n",
        "resnet = resnet.eval()\n",
        "outputs = resnet(images.to(device))"
      ],
      "execution_count": 179,
      "outputs": []
    },
    {
      "cell_type": "code",
      "metadata": {
        "colab": {
          "base_uri": "https://localhost:8080/",
          "height": 166
        },
        "id": "CBoVtm6-oDSA",
        "outputId": "960c95ac-084a-46d7-8d04-74a91dbcff3f"
      },
      "source": [
        "_, predicted = torch.max(outputs, 1)\n",
        "\n",
        "imshow(torchvision.utils.make_grid(images))\n",
        "print('Predicted:')\n",
        "print('      '.join('%5s' % classes[predicted[j]] for j in range(batch_size)))"
      ],
      "execution_count": 180,
      "outputs": [
        {
          "output_type": "stream",
          "text": [
            "Clipping input data to the valid range for imshow with RGB data ([0..1] for floats or [0..255] for integers).\n"
          ],
          "name": "stderr"
        },
        {
          "output_type": "stream",
          "text": [
            "Predicted:\n",
            "  cat       ship        car      plane\n"
          ],
          "name": "stdout"
        },
        {
          "output_type": "display_data",
          "data": {
            "image/png": "[encoded data removed]",
            "text/plain": [
              "<Figure size 432x288 with 1 Axes>"
            ]
          },
          "metadata": {
            "tags": [],
            "needs_background": "light"
          }
        }
      ]
    },
    {
      "cell_type": "code",
      "metadata": {
        "colab": {
          "base_uri": "https://localhost:8080/"
        },
        "id": "EM0WqX2eocq0",
        "outputId": "0d11f1c1-d329-416c-be70-85fde69c665a"
      },
      "source": [
        "correct = 0\n",
        "total = 0\n",
        "with torch.no_grad():\n",
        "    for data in testloader:\n",
        "        images, labels = data\n",
        "        images, labels = images.to(device), labels.to(device)\n",
        "        outputs = resnet(images)\n",
        "        _, predicted = torch.max(outputs.data, 1)\n",
        "        total += labels.size(0)\n",
        "        correct += (predicted == labels).sum().item()\n",
        "\n",
        "print('Accuracy of the network on the 10000 test images: %d%%' % (\n",
        "    100 * correct / total))"
      ],
      "execution_count": 181,
      "outputs": [
        {
          "output_type": "stream",
          "text": [
            "Accuracy of the network on the 10000 test images: 81%\n"
          ],
          "name": "stdout"
        }
      ]
    },
    {
      "cell_type": "code",
      "metadata": {
        "colab": {
          "base_uri": "https://localhost:8080/"
        },
        "id": "7efGgC-csWSG",
        "outputId": "78ed0873-00d7-41d1-a8d0-e7c488b0ab2f"
      },
      "source": [
        "class_correct = [0] * 10\n",
        "class_total = [0] * 10\n",
        "with torch.no_grad():\n",
        "    for data in testloader:\n",
        "        images, labels = data\n",
        "        images, labels = images.to(device), labels.to(device)\n",
        "        outputs = resnet(images)\n",
        "        _, predicted = torch.max(outputs, 1)\n",
        "        c = (predicted == labels).squeeze()\n",
        "        for i in range(4):\n",
        "            label = labels[i]\n",
        "            class_correct[label] += c[i].item()\n",
        "            class_total[label] += 1\n",
        "\n",
        "\n",
        "for i in range(10):\n",
        "    print('Accuracy of %5s: %2d%%' % (\n",
        "        classes[i], 100 * class_correct[i] / class_total[i]))"
      ],
      "execution_count": 182,
      "outputs": [
        {
          "output_type": "stream",
          "text": [
            "Accuracy of plane: 86%\n",
            "Accuracy of   car: 91%\n",
            "Accuracy of  bird: 77%\n",
            "Accuracy of   cat: 78%\n",
            "Accuracy of  deer: 76%\n",
            "Accuracy of   dog: 74%\n",
            "Accuracy of  frog: 82%\n",
            "Accuracy of horse: 84%\n",
            "Accuracy of  ship: 83%\n",
            "Accuracy of truck: 82%\n"
          ],
          "name": "stdout"
        }
      ]
    },
    {
      "cell_type": "code",
      "metadata": {
        "id": "ntmC7jB-xSfH"
      },
      "source": [
        ""
      ],
      "execution_count": null,
      "outputs": []
    }
  ]
}